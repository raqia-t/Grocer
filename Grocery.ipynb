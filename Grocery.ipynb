{
  "nbformat": 4,
  "nbformat_minor": 0,
  "metadata": {
    "colab": {
      "provenance": []
    },
    "kernelspec": {
      "name": "python3",
      "display_name": "Python 3"
    },
    "language_info": {
      "name": "python"
    }
  },
  "cells": [
    {
      "cell_type": "markdown",
      "source": [
        "#Set Up Dependencies"
      ],
      "metadata": {
        "id": "--bphIFllfIs"
      }
    },
    {
      "cell_type": "code",
      "source": [
        "!pip install ultralytics"
      ],
      "metadata": {
        "colab": {
          "base_uri": "https://localhost:8080/"
        },
        "id": "QJUbEUGLl0sE",
        "outputId": "f4da5849-8bd1-4a49-a1ff-682a4d2f7b8c"
      },
      "execution_count": null,
      "outputs": [
        {
          "output_type": "stream",
          "name": "stdout",
          "text": [
            "Collecting ultralytics\n",
            "  Downloading ultralytics-8.3.56-py3-none-any.whl.metadata (35 kB)\n",
            "Requirement already satisfied: numpy>=1.23.0 in /usr/local/lib/python3.10/dist-packages (from ultralytics) (1.26.4)\n",
            "Requirement already satisfied: matplotlib>=3.3.0 in /usr/local/lib/python3.10/dist-packages (from ultralytics) (3.8.0)\n",
            "Requirement already satisfied: opencv-python>=4.6.0 in /usr/local/lib/python3.10/dist-packages (from ultralytics) (4.10.0.84)\n",
            "Requirement already satisfied: pillow>=7.1.2 in /usr/local/lib/python3.10/dist-packages (from ultralytics) (11.0.0)\n",
            "Requirement already satisfied: pyyaml>=5.3.1 in /usr/local/lib/python3.10/dist-packages (from ultralytics) (6.0.2)\n",
            "Requirement already satisfied: requests>=2.23.0 in /usr/local/lib/python3.10/dist-packages (from ultralytics) (2.32.3)\n",
            "Requirement already satisfied: scipy>=1.4.1 in /usr/local/lib/python3.10/dist-packages (from ultralytics) (1.13.1)\n",
            "Requirement already satisfied: torch>=1.8.0 in /usr/local/lib/python3.10/dist-packages (from ultralytics) (2.5.1+cu121)\n",
            "Requirement already satisfied: torchvision>=0.9.0 in /usr/local/lib/python3.10/dist-packages (from ultralytics) (0.20.1+cu121)\n",
            "Requirement already satisfied: tqdm>=4.64.0 in /usr/local/lib/python3.10/dist-packages (from ultralytics) (4.67.1)\n",
            "Requirement already satisfied: psutil in /usr/local/lib/python3.10/dist-packages (from ultralytics) (5.9.5)\n",
            "Requirement already satisfied: py-cpuinfo in /usr/local/lib/python3.10/dist-packages (from ultralytics) (9.0.0)\n",
            "Requirement already satisfied: pandas>=1.1.4 in /usr/local/lib/python3.10/dist-packages (from ultralytics) (2.2.2)\n",
            "Requirement already satisfied: seaborn>=0.11.0 in /usr/local/lib/python3.10/dist-packages (from ultralytics) (0.13.2)\n",
            "Collecting ultralytics-thop>=2.0.0 (from ultralytics)\n",
            "  Downloading ultralytics_thop-2.0.13-py3-none-any.whl.metadata (9.4 kB)\n",
            "Requirement already satisfied: contourpy>=1.0.1 in /usr/local/lib/python3.10/dist-packages (from matplotlib>=3.3.0->ultralytics) (1.3.1)\n",
            "Requirement already satisfied: cycler>=0.10 in /usr/local/lib/python3.10/dist-packages (from matplotlib>=3.3.0->ultralytics) (0.12.1)\n",
            "Requirement already satisfied: fonttools>=4.22.0 in /usr/local/lib/python3.10/dist-packages (from matplotlib>=3.3.0->ultralytics) (4.55.3)\n",
            "Requirement already satisfied: kiwisolver>=1.0.1 in /usr/local/lib/python3.10/dist-packages (from matplotlib>=3.3.0->ultralytics) (1.4.7)\n",
            "Requirement already satisfied: packaging>=20.0 in /usr/local/lib/python3.10/dist-packages (from matplotlib>=3.3.0->ultralytics) (24.2)\n",
            "Requirement already satisfied: pyparsing>=2.3.1 in /usr/local/lib/python3.10/dist-packages (from matplotlib>=3.3.0->ultralytics) (3.2.0)\n",
            "Requirement already satisfied: python-dateutil>=2.7 in /usr/local/lib/python3.10/dist-packages (from matplotlib>=3.3.0->ultralytics) (2.8.2)\n",
            "Requirement already satisfied: pytz>=2020.1 in /usr/local/lib/python3.10/dist-packages (from pandas>=1.1.4->ultralytics) (2024.2)\n",
            "Requirement already satisfied: tzdata>=2022.7 in /usr/local/lib/python3.10/dist-packages (from pandas>=1.1.4->ultralytics) (2024.2)\n",
            "Requirement already satisfied: charset-normalizer<4,>=2 in /usr/local/lib/python3.10/dist-packages (from requests>=2.23.0->ultralytics) (3.4.0)\n",
            "Requirement already satisfied: idna<4,>=2.5 in /usr/local/lib/python3.10/dist-packages (from requests>=2.23.0->ultralytics) (3.10)\n",
            "Requirement already satisfied: urllib3<3,>=1.21.1 in /usr/local/lib/python3.10/dist-packages (from requests>=2.23.0->ultralytics) (2.2.3)\n",
            "Requirement already satisfied: certifi>=2017.4.17 in /usr/local/lib/python3.10/dist-packages (from requests>=2.23.0->ultralytics) (2024.12.14)\n",
            "Requirement already satisfied: filelock in /usr/local/lib/python3.10/dist-packages (from torch>=1.8.0->ultralytics) (3.16.1)\n",
            "Requirement already satisfied: typing-extensions>=4.8.0 in /usr/local/lib/python3.10/dist-packages (from torch>=1.8.0->ultralytics) (4.12.2)\n",
            "Requirement already satisfied: networkx in /usr/local/lib/python3.10/dist-packages (from torch>=1.8.0->ultralytics) (3.4.2)\n",
            "Requirement already satisfied: jinja2 in /usr/local/lib/python3.10/dist-packages (from torch>=1.8.0->ultralytics) (3.1.4)\n",
            "Requirement already satisfied: fsspec in /usr/local/lib/python3.10/dist-packages (from torch>=1.8.0->ultralytics) (2024.10.0)\n",
            "Requirement already satisfied: sympy==1.13.1 in /usr/local/lib/python3.10/dist-packages (from torch>=1.8.0->ultralytics) (1.13.1)\n",
            "Requirement already satisfied: mpmath<1.4,>=1.1.0 in /usr/local/lib/python3.10/dist-packages (from sympy==1.13.1->torch>=1.8.0->ultralytics) (1.3.0)\n",
            "Requirement already satisfied: six>=1.5 in /usr/local/lib/python3.10/dist-packages (from python-dateutil>=2.7->matplotlib>=3.3.0->ultralytics) (1.17.0)\n",
            "Requirement already satisfied: MarkupSafe>=2.0 in /usr/local/lib/python3.10/dist-packages (from jinja2->torch>=1.8.0->ultralytics) (3.0.2)\n",
            "Downloading ultralytics-8.3.56-py3-none-any.whl (904 kB)\n",
            "\u001b[2K   \u001b[90m━━━━━━━━━━━━━━━━━━━━━━━━━━━━━━━━━━━━━━━━\u001b[0m \u001b[32m904.4/904.4 kB\u001b[0m \u001b[31m52.5 MB/s\u001b[0m eta \u001b[36m0:00:00\u001b[0m\n",
            "\u001b[?25hDownloading ultralytics_thop-2.0.13-py3-none-any.whl (26 kB)\n",
            "Installing collected packages: ultralytics-thop, ultralytics\n",
            "Successfully installed ultralytics-8.3.56 ultralytics-thop-2.0.13\n"
          ]
        }
      ]
    },
    {
      "cell_type": "code",
      "source": [
        "from google.colab import drive\n",
        "drive.mount('/content/drive')"
      ],
      "metadata": {
        "colab": {
          "base_uri": "https://localhost:8080/"
        },
        "id": "ijCDYZUtVGMW",
        "outputId": "bdc9195e-7447-48eb-85ee-01ded03c507f"
      },
      "execution_count": null,
      "outputs": [
        {
          "output_type": "stream",
          "name": "stdout",
          "text": [
            "Mounted at /content/drive\n"
          ]
        }
      ]
    },
    {
      "cell_type": "markdown",
      "source": [
        "#Fine Tune Yolov8 on custom data"
      ],
      "metadata": {
        "id": "93O7heCkmoV8"
      }
    },
    {
      "cell_type": "code",
      "source": [
        "import os\n",
        "from ultralytics import YOLO\n",
        "# import torch\n",
        "# import torch_xla\n",
        "# import torch_xla.core.xla_model as xm\n",
        "\n",
        "\"\"\"\n",
        "Example script to fine-tune a YOLOv8 model on a custom dataset\n",
        "and run inference. Adjust parameters as needed.\n",
        "\"\"\"\n",
        "\n",
        "# -------------------------------------------------------\n",
        "# 1. Load a Pretrained YOLOv8 Model\n",
        "# -------------------------------------------------------\n",
        "model = YOLO('yolov8n.pt')  # or path to your custom checkpoint (using nano i.e. smallest)\n",
        "\n",
        "# -------------------------------------------------------\n",
        "# 2. Train (Fine-Tune) on Custom Dataset\n",
        "# -------------------------------------------------------\n",
        "# data.yaml must have the structure:\n",
        "# train: path/to/train/\n",
        "# val:   path/to/val/\n",
        "# test:  path/to/test/\n",
        "# nc: <number_of_classes>\n",
        "# names: [<class1>, <class2>, ...]\n",
        "# For above the path will be from drive mounted, hence better to create a folder and add data into that folder\n",
        "#\n",
        "#\n",
        "# Example parameters:\n",
        "#  - epochs: how many times to loop over your training data\n",
        "#  - imgsz: image size for training\n",
        "#  - batch: batch size\n",
        "#  - device: 'cpu' or e.g. '0' for GPU #0\n",
        "#  - pretrained: True means starting from pretrained weights\n",
        "#  - other hyperparameters: see Ultralytics YOLO docs\n",
        "#\n",
        "\n",
        "data_config = '/content/drive/MyDrive/Data/grocery_yolov8/grocery_yolov8/data.yaml'\n",
        "\n",
        "results = model.train(\n",
        "    data=data_config,\n",
        "    epochs=57,\n",
        "    imgsz=640,\n",
        "    batch=8,\n",
        "    device=0,  # or some other numerical, like 0 (this would normally use all gpu's available), or 1 , or '0,1'\n",
        "    # device = xm.xla_device(), # For TPU not working\n",
        "    workers=4  # number of dataloader workers\n",
        ")\n",
        "\n",
        "# -------------------------------------------------------\n",
        "# 3. Validate the Model on the Validation Set\n",
        "# -------------------------------------------------------\n",
        "# This will give metrics like mAP, precision, recall, etc.\n",
        "val_results = model.val()\n",
        "print(\"Validation results:\", val_results)"
      ],
      "metadata": {
        "colab": {
          "base_uri": "https://localhost:8080/"
        },
        "id": "JEAt3jmZgULC",
        "outputId": "1503b90a-2a42-4402-b4ce-b92aa806ad69"
      },
      "execution_count": null,
      "outputs": [
        {
          "output_type": "stream",
          "name": "stdout",
          "text": [
            "Ultralytics 8.3.56 🚀 Python-3.10.12 torch-2.5.1+cu121 CUDA:0 (Tesla T4, 15102MiB)\n",
            "\u001b[34m\u001b[1mengine/trainer: \u001b[0mtask=detect, mode=train, model=yolov8n.pt, data=/content/drive/MyDrive/Data/grocery_yolov8/grocery_yolov8/data.yaml, epochs=57, time=None, patience=100, batch=8, imgsz=640, save=True, save_period=-1, cache=False, device=0, workers=4, project=None, name=train2, exist_ok=False, pretrained=True, optimizer=auto, verbose=True, seed=0, deterministic=True, single_cls=False, rect=False, cos_lr=False, close_mosaic=10, resume=False, amp=True, fraction=1.0, profile=False, freeze=None, multi_scale=False, overlap_mask=True, mask_ratio=4, dropout=0.0, val=True, split=val, save_json=False, save_hybrid=False, conf=None, iou=0.7, max_det=300, half=False, dnn=False, plots=True, source=None, vid_stride=1, stream_buffer=False, visualize=False, augment=False, agnostic_nms=False, classes=None, retina_masks=False, embed=None, show=False, save_frames=False, save_txt=False, save_conf=False, save_crop=False, show_labels=True, show_conf=True, show_boxes=True, line_width=None, format=torchscript, keras=False, optimize=False, int8=False, dynamic=False, simplify=True, opset=None, workspace=None, nms=False, lr0=0.01, lrf=0.01, momentum=0.937, weight_decay=0.0005, warmup_epochs=3.0, warmup_momentum=0.8, warmup_bias_lr=0.1, box=7.5, cls=0.5, dfl=1.5, pose=12.0, kobj=1.0, nbs=64, hsv_h=0.015, hsv_s=0.7, hsv_v=0.4, degrees=0.0, translate=0.1, scale=0.5, shear=0.0, perspective=0.0, flipud=0.0, fliplr=0.5, bgr=0.0, mosaic=1.0, mixup=0.0, copy_paste=0.0, copy_paste_mode=flip, auto_augment=randaugment, erasing=0.4, crop_fraction=1.0, cfg=None, tracker=botsort.yaml, save_dir=runs/detect/train2\n",
            "Downloading https://ultralytics.com/assets/Arial.ttf to '/root/.config/Ultralytics/Arial.ttf'...\n"
          ]
        },
        {
          "output_type": "stream",
          "name": "stderr",
          "text": [
            "100%|██████████| 755k/755k [00:00<00:00, 123MB/s]\n"
          ]
        },
        {
          "output_type": "stream",
          "name": "stdout",
          "text": [
            "Overriding model.yaml nc=80 with nc=3\n",
            "\n",
            "                   from  n    params  module                                       arguments                     \n",
            "  0                  -1  1       464  ultralytics.nn.modules.conv.Conv             [3, 16, 3, 2]                 \n",
            "  1                  -1  1      4672  ultralytics.nn.modules.conv.Conv             [16, 32, 3, 2]                \n",
            "  2                  -1  1      7360  ultralytics.nn.modules.block.C2f             [32, 32, 1, True]             \n",
            "  3                  -1  1     18560  ultralytics.nn.modules.conv.Conv             [32, 64, 3, 2]                \n",
            "  4                  -1  2     49664  ultralytics.nn.modules.block.C2f             [64, 64, 2, True]             \n",
            "  5                  -1  1     73984  ultralytics.nn.modules.conv.Conv             [64, 128, 3, 2]               \n",
            "  6                  -1  2    197632  ultralytics.nn.modules.block.C2f             [128, 128, 2, True]           \n",
            "  7                  -1  1    295424  ultralytics.nn.modules.conv.Conv             [128, 256, 3, 2]              \n",
            "  8                  -1  1    460288  ultralytics.nn.modules.block.C2f             [256, 256, 1, True]           \n",
            "  9                  -1  1    164608  ultralytics.nn.modules.block.SPPF            [256, 256, 5]                 \n",
            " 10                  -1  1         0  torch.nn.modules.upsampling.Upsample         [None, 2, 'nearest']          \n",
            " 11             [-1, 6]  1         0  ultralytics.nn.modules.conv.Concat           [1]                           \n",
            " 12                  -1  1    148224  ultralytics.nn.modules.block.C2f             [384, 128, 1]                 \n",
            " 13                  -1  1         0  torch.nn.modules.upsampling.Upsample         [None, 2, 'nearest']          \n",
            " 14             [-1, 4]  1         0  ultralytics.nn.modules.conv.Concat           [1]                           \n",
            " 15                  -1  1     37248  ultralytics.nn.modules.block.C2f             [192, 64, 1]                  \n",
            " 16                  -1  1     36992  ultralytics.nn.modules.conv.Conv             [64, 64, 3, 2]                \n",
            " 17            [-1, 12]  1         0  ultralytics.nn.modules.conv.Concat           [1]                           \n",
            " 18                  -1  1    123648  ultralytics.nn.modules.block.C2f             [192, 128, 1]                 \n",
            " 19                  -1  1    147712  ultralytics.nn.modules.conv.Conv             [128, 128, 3, 2]              \n",
            " 20             [-1, 9]  1         0  ultralytics.nn.modules.conv.Concat           [1]                           \n",
            " 21                  -1  1    493056  ultralytics.nn.modules.block.C2f             [384, 256, 1]                 \n",
            " 22        [15, 18, 21]  1    751897  ultralytics.nn.modules.head.Detect           [3, [64, 128, 256]]           \n",
            "Model summary: 225 layers, 3,011,433 parameters, 3,011,417 gradients, 8.2 GFLOPs\n",
            "\n",
            "Transferred 319/355 items from pretrained weights\n",
            "\u001b[34m\u001b[1mTensorBoard: \u001b[0mStart with 'tensorboard --logdir runs/detect/train2', view at http://localhost:6006/\n",
            "Freezing layer 'model.22.dfl.conv.weight'\n",
            "\u001b[34m\u001b[1mAMP: \u001b[0mrunning Automatic Mixed Precision (AMP) checks...\n",
            "Downloading https://github.com/ultralytics/assets/releases/download/v8.3.0/yolo11n.pt to 'yolo11n.pt'...\n"
          ]
        },
        {
          "output_type": "stream",
          "name": "stderr",
          "text": [
            "100%|██████████| 5.35M/5.35M [00:00<00:00, 315MB/s]\n"
          ]
        },
        {
          "output_type": "stream",
          "name": "stdout",
          "text": [
            "\u001b[34m\u001b[1mAMP: \u001b[0mchecks passed ✅\n"
          ]
        },
        {
          "output_type": "stream",
          "name": "stderr",
          "text": [
            "\u001b[34m\u001b[1mtrain: \u001b[0mScanning /content/drive/MyDrive/Data/grocery_yolov8/grocery_yolov8/train/labels... 532 images, 4 backgrounds, 0 corrupt: 100%|██████████| 532/532 [07:19<00:00,  1.21it/s]\n"
          ]
        },
        {
          "output_type": "stream",
          "name": "stdout",
          "text": [
            "\u001b[34m\u001b[1mtrain: \u001b[0mNew cache created: /content/drive/MyDrive/Data/grocery_yolov8/grocery_yolov8/train/labels.cache\n",
            "\u001b[34m\u001b[1malbumentations: \u001b[0mBlur(p=0.01, blur_limit=(3, 7)), MedianBlur(p=0.01, blur_limit=(3, 7)), ToGray(p=0.01, num_output_channels=3, method='weighted_average'), CLAHE(p=0.01, clip_limit=(1.0, 4.0), tile_grid_size=(8, 8))\n"
          ]
        },
        {
          "output_type": "stream",
          "name": "stderr",
          "text": [
            "/usr/local/lib/python3.10/dist-packages/albumentations/__init__.py:24: UserWarning: A new version of Albumentations is available: 1.4.24 (you have 1.4.20). Upgrade using: pip install -U albumentations. To disable automatic update checks, set the environment variable NO_ALBUMENTATIONS_UPDATE to 1.\n",
            "  check_for_updates()\n",
            "\u001b[34m\u001b[1mval: \u001b[0mScanning /content/drive/MyDrive/Data/grocery_yolov8/grocery_yolov8/valid/labels... 85 images, 0 backgrounds, 0 corrupt: 100%|██████████| 85/85 [02:15<00:00,  1.60s/it]"
          ]
        },
        {
          "output_type": "stream",
          "name": "stdout",
          "text": [
            "\u001b[34m\u001b[1mval: \u001b[0mNew cache created: /content/drive/MyDrive/Data/grocery_yolov8/grocery_yolov8/valid/labels.cache\n"
          ]
        },
        {
          "output_type": "stream",
          "name": "stderr",
          "text": [
            "\n"
          ]
        },
        {
          "output_type": "stream",
          "name": "stdout",
          "text": [
            "Plotting labels to runs/detect/train2/labels.jpg... \n",
            "\u001b[34m\u001b[1moptimizer:\u001b[0m 'optimizer=auto' found, ignoring 'lr0=0.01' and 'momentum=0.937' and determining best 'optimizer', 'lr0' and 'momentum' automatically... \n",
            "\u001b[34m\u001b[1moptimizer:\u001b[0m AdamW(lr=0.001429, momentum=0.9) with parameter groups 57 weight(decay=0.0), 64 weight(decay=0.0005), 63 bias(decay=0.0)\n",
            "\u001b[34m\u001b[1mTensorBoard: \u001b[0mmodel graph visualization added ✅\n",
            "Image sizes 640 train, 640 val\n",
            "Using 2 dataloader workers\n",
            "Logging results to \u001b[1mruns/detect/train2\u001b[0m\n",
            "Starting training for 57 epochs...\n",
            "\n",
            "      Epoch    GPU_mem   box_loss   cls_loss   dfl_loss  Instances       Size\n"
          ]
        },
        {
          "output_type": "stream",
          "name": "stderr",
          "text": [
            "       1/57      1.19G      1.116      2.819      1.245          6        640: 100%|██████████| 67/67 [00:19<00:00,  3.47it/s]\n",
            "                 Class     Images  Instances      Box(P          R      mAP50  mAP50-95): 100%|██████████| 6/6 [00:02<00:00,  2.49it/s]"
          ]
        },
        {
          "output_type": "stream",
          "name": "stdout",
          "text": [
            "                   all         85         85      0.627      0.446      0.524      0.344\n"
          ]
        },
        {
          "output_type": "stream",
          "name": "stderr",
          "text": [
            "\n"
          ]
        },
        {
          "output_type": "stream",
          "name": "stdout",
          "text": [
            "\n",
            "      Epoch    GPU_mem   box_loss   cls_loss   dfl_loss  Instances       Size\n"
          ]
        },
        {
          "output_type": "stream",
          "name": "stderr",
          "text": [
            "       2/57      1.21G      1.095      2.082        1.2          5        640: 100%|██████████| 67/67 [00:16<00:00,  3.97it/s]\n",
            "                 Class     Images  Instances      Box(P          R      mAP50  mAP50-95): 100%|██████████| 6/6 [00:01<00:00,  5.26it/s]"
          ]
        },
        {
          "output_type": "stream",
          "name": "stdout",
          "text": [
            "                   all         85         85       0.71      0.561      0.638      0.408\n"
          ]
        },
        {
          "output_type": "stream",
          "name": "stderr",
          "text": [
            "\n"
          ]
        },
        {
          "output_type": "stream",
          "name": "stdout",
          "text": [
            "\n",
            "      Epoch    GPU_mem   box_loss   cls_loss   dfl_loss  Instances       Size\n"
          ]
        },
        {
          "output_type": "stream",
          "name": "stderr",
          "text": [
            "       3/57      1.21G      1.087      1.963      1.221          3        640: 100%|██████████| 67/67 [00:16<00:00,  4.11it/s]\n",
            "                 Class     Images  Instances      Box(P          R      mAP50  mAP50-95): 100%|██████████| 6/6 [00:01<00:00,  5.77it/s]"
          ]
        },
        {
          "output_type": "stream",
          "name": "stdout",
          "text": [
            "                   all         85         85      0.391      0.701      0.569      0.383\n"
          ]
        },
        {
          "output_type": "stream",
          "name": "stderr",
          "text": [
            "\n"
          ]
        },
        {
          "output_type": "stream",
          "name": "stdout",
          "text": [
            "\n",
            "      Epoch    GPU_mem   box_loss   cls_loss   dfl_loss  Instances       Size\n"
          ]
        },
        {
          "output_type": "stream",
          "name": "stderr",
          "text": [
            "       4/57      1.21G      1.191      1.897      1.248          7        640: 100%|██████████| 67/67 [00:16<00:00,  3.96it/s]\n",
            "                 Class     Images  Instances      Box(P          R      mAP50  mAP50-95): 100%|██████████| 6/6 [00:01<00:00,  5.36it/s]"
          ]
        },
        {
          "output_type": "stream",
          "name": "stdout",
          "text": [
            "                   all         85         85      0.592      0.614      0.609      0.413\n"
          ]
        },
        {
          "output_type": "stream",
          "name": "stderr",
          "text": [
            "\n"
          ]
        },
        {
          "output_type": "stream",
          "name": "stdout",
          "text": [
            "\n",
            "      Epoch    GPU_mem   box_loss   cls_loss   dfl_loss  Instances       Size\n"
          ]
        },
        {
          "output_type": "stream",
          "name": "stderr",
          "text": [
            "       5/57      1.21G      1.117       1.75      1.218          4        640: 100%|██████████| 67/67 [00:16<00:00,  3.94it/s]\n",
            "                 Class     Images  Instances      Box(P          R      mAP50  mAP50-95): 100%|██████████| 6/6 [00:01<00:00,  5.87it/s]"
          ]
        },
        {
          "output_type": "stream",
          "name": "stdout",
          "text": [
            "                   all         85         85      0.589      0.762      0.725      0.561\n"
          ]
        },
        {
          "output_type": "stream",
          "name": "stderr",
          "text": [
            "\n"
          ]
        },
        {
          "output_type": "stream",
          "name": "stdout",
          "text": [
            "\n",
            "      Epoch    GPU_mem   box_loss   cls_loss   dfl_loss  Instances       Size\n"
          ]
        },
        {
          "output_type": "stream",
          "name": "stderr",
          "text": [
            "       6/57      1.21G      1.116      1.587      1.217          8        640: 100%|██████████| 67/67 [00:17<00:00,  3.94it/s]\n",
            "                 Class     Images  Instances      Box(P          R      mAP50  mAP50-95): 100%|██████████| 6/6 [00:00<00:00,  6.29it/s]"
          ]
        },
        {
          "output_type": "stream",
          "name": "stdout",
          "text": [
            "                   all         85         85      0.572       0.74      0.771      0.552\n"
          ]
        },
        {
          "output_type": "stream",
          "name": "stderr",
          "text": [
            "\n"
          ]
        },
        {
          "output_type": "stream",
          "name": "stdout",
          "text": [
            "\n",
            "      Epoch    GPU_mem   box_loss   cls_loss   dfl_loss  Instances       Size\n"
          ]
        },
        {
          "output_type": "stream",
          "name": "stderr",
          "text": [
            "       7/57      1.22G      1.098      1.459      1.197          9        640: 100%|██████████| 67/67 [00:15<00:00,  4.20it/s]\n",
            "                 Class     Images  Instances      Box(P          R      mAP50  mAP50-95): 100%|██████████| 6/6 [00:01<00:00,  5.45it/s]"
          ]
        },
        {
          "output_type": "stream",
          "name": "stdout",
          "text": [
            "                   all         85         85      0.697       0.81      0.752      0.571\n"
          ]
        },
        {
          "output_type": "stream",
          "name": "stderr",
          "text": [
            "\n"
          ]
        },
        {
          "output_type": "stream",
          "name": "stdout",
          "text": [
            "\n",
            "      Epoch    GPU_mem   box_loss   cls_loss   dfl_loss  Instances       Size\n"
          ]
        },
        {
          "output_type": "stream",
          "name": "stderr",
          "text": [
            "       8/57      1.21G      1.091      1.363      1.185          8        640: 100%|██████████| 67/67 [00:16<00:00,  3.99it/s]\n",
            "                 Class     Images  Instances      Box(P          R      mAP50  mAP50-95): 100%|██████████| 6/6 [00:01<00:00,  5.59it/s]"
          ]
        },
        {
          "output_type": "stream",
          "name": "stdout",
          "text": [
            "                   all         85         85      0.813       0.75      0.851      0.671\n"
          ]
        },
        {
          "output_type": "stream",
          "name": "stderr",
          "text": [
            "\n"
          ]
        },
        {
          "output_type": "stream",
          "name": "stdout",
          "text": [
            "\n",
            "      Epoch    GPU_mem   box_loss   cls_loss   dfl_loss  Instances       Size\n"
          ]
        },
        {
          "output_type": "stream",
          "name": "stderr",
          "text": [
            "       9/57      1.21G      1.101      1.282      1.183          6        640: 100%|██████████| 67/67 [00:17<00:00,  3.92it/s]\n",
            "                 Class     Images  Instances      Box(P          R      mAP50  mAP50-95): 100%|██████████| 6/6 [00:01<00:00,  4.91it/s]"
          ]
        },
        {
          "output_type": "stream",
          "name": "stdout",
          "text": [
            "                   all         85         85      0.608      0.754      0.681      0.515\n"
          ]
        },
        {
          "output_type": "stream",
          "name": "stderr",
          "text": [
            "\n"
          ]
        },
        {
          "output_type": "stream",
          "name": "stdout",
          "text": [
            "\n",
            "      Epoch    GPU_mem   box_loss   cls_loss   dfl_loss  Instances       Size\n"
          ]
        },
        {
          "output_type": "stream",
          "name": "stderr",
          "text": [
            "      10/57      1.17G      1.017      1.234      1.145          3        640: 100%|██████████| 67/67 [00:17<00:00,  3.91it/s]\n",
            "                 Class     Images  Instances      Box(P          R      mAP50  mAP50-95): 100%|██████████| 6/6 [00:01<00:00,  5.24it/s]"
          ]
        },
        {
          "output_type": "stream",
          "name": "stdout",
          "text": [
            "                   all         85         85      0.755      0.787      0.844      0.618\n"
          ]
        },
        {
          "output_type": "stream",
          "name": "stderr",
          "text": [
            "\n"
          ]
        },
        {
          "output_type": "stream",
          "name": "stdout",
          "text": [
            "\n",
            "      Epoch    GPU_mem   box_loss   cls_loss   dfl_loss  Instances       Size\n"
          ]
        },
        {
          "output_type": "stream",
          "name": "stderr",
          "text": [
            "      11/57      1.17G      1.057      1.169      1.163          5        640: 100%|██████████| 67/67 [00:16<00:00,  3.99it/s]\n",
            "                 Class     Images  Instances      Box(P          R      mAP50  mAP50-95): 100%|██████████| 6/6 [00:01<00:00,  5.94it/s]"
          ]
        },
        {
          "output_type": "stream",
          "name": "stdout",
          "text": [
            "                   all         85         85       0.74      0.755      0.758      0.595\n"
          ]
        },
        {
          "output_type": "stream",
          "name": "stderr",
          "text": [
            "\n"
          ]
        },
        {
          "output_type": "stream",
          "name": "stdout",
          "text": [
            "\n",
            "      Epoch    GPU_mem   box_loss   cls_loss   dfl_loss  Instances       Size\n"
          ]
        },
        {
          "output_type": "stream",
          "name": "stderr",
          "text": [
            "      12/57      1.21G     0.9757      1.097       1.13          8        640: 100%|██████████| 67/67 [00:16<00:00,  3.96it/s]\n",
            "                 Class     Images  Instances      Box(P          R      mAP50  mAP50-95): 100%|██████████| 6/6 [00:01<00:00,  5.51it/s]"
          ]
        },
        {
          "output_type": "stream",
          "name": "stdout",
          "text": [
            "                   all         85         85      0.863      0.919      0.899      0.664\n"
          ]
        },
        {
          "output_type": "stream",
          "name": "stderr",
          "text": [
            "\n"
          ]
        },
        {
          "output_type": "stream",
          "name": "stdout",
          "text": [
            "\n",
            "      Epoch    GPU_mem   box_loss   cls_loss   dfl_loss  Instances       Size\n"
          ]
        },
        {
          "output_type": "stream",
          "name": "stderr",
          "text": [
            "      13/57      1.21G      1.035      1.084       1.15          5        640: 100%|██████████| 67/67 [00:16<00:00,  3.95it/s]\n",
            "                 Class     Images  Instances      Box(P          R      mAP50  mAP50-95): 100%|██████████| 6/6 [00:01<00:00,  5.39it/s]"
          ]
        },
        {
          "output_type": "stream",
          "name": "stdout",
          "text": [
            "                   all         85         85      0.918      0.874      0.937      0.697\n"
          ]
        },
        {
          "output_type": "stream",
          "name": "stderr",
          "text": [
            "\n"
          ]
        },
        {
          "output_type": "stream",
          "name": "stdout",
          "text": [
            "\n",
            "      Epoch    GPU_mem   box_loss   cls_loss   dfl_loss  Instances       Size\n"
          ]
        },
        {
          "output_type": "stream",
          "name": "stderr",
          "text": [
            "      14/57      1.21G     0.9937       1.05      1.144          7        640: 100%|██████████| 67/67 [00:17<00:00,  3.88it/s]\n",
            "                 Class     Images  Instances      Box(P          R      mAP50  mAP50-95): 100%|██████████| 6/6 [00:00<00:00,  6.20it/s]"
          ]
        },
        {
          "output_type": "stream",
          "name": "stdout",
          "text": [
            "                   all         85         85        0.9      0.876      0.909      0.678\n"
          ]
        },
        {
          "output_type": "stream",
          "name": "stderr",
          "text": [
            "\n"
          ]
        },
        {
          "output_type": "stream",
          "name": "stdout",
          "text": [
            "\n",
            "      Epoch    GPU_mem   box_loss   cls_loss   dfl_loss  Instances       Size\n"
          ]
        },
        {
          "output_type": "stream",
          "name": "stderr",
          "text": [
            "      15/57      1.21G     0.9444     0.9993      1.114          8        640: 100%|██████████| 67/67 [00:16<00:00,  4.02it/s]\n",
            "                 Class     Images  Instances      Box(P          R      mAP50  mAP50-95): 100%|██████████| 6/6 [00:01<00:00,  5.37it/s]"
          ]
        },
        {
          "output_type": "stream",
          "name": "stdout",
          "text": [
            "                   all         85         85      0.991      0.882      0.975      0.783\n"
          ]
        },
        {
          "output_type": "stream",
          "name": "stderr",
          "text": [
            "\n"
          ]
        },
        {
          "output_type": "stream",
          "name": "stdout",
          "text": [
            "\n",
            "      Epoch    GPU_mem   box_loss   cls_loss   dfl_loss  Instances       Size\n"
          ]
        },
        {
          "output_type": "stream",
          "name": "stderr",
          "text": [
            "      16/57      1.21G     0.9524     0.9584      1.113          4        640: 100%|██████████| 67/67 [00:16<00:00,  4.06it/s]\n",
            "                 Class     Images  Instances      Box(P          R      mAP50  mAP50-95): 100%|██████████| 6/6 [00:00<00:00,  6.25it/s]"
          ]
        },
        {
          "output_type": "stream",
          "name": "stdout",
          "text": [
            "                   all         85         85      0.875      0.871      0.929      0.743\n"
          ]
        },
        {
          "output_type": "stream",
          "name": "stderr",
          "text": [
            "\n"
          ]
        },
        {
          "output_type": "stream",
          "name": "stdout",
          "text": [
            "\n",
            "      Epoch    GPU_mem   box_loss   cls_loss   dfl_loss  Instances       Size\n"
          ]
        },
        {
          "output_type": "stream",
          "name": "stderr",
          "text": [
            "      17/57       1.2G     0.9327      0.925      1.083          6        640: 100%|██████████| 67/67 [00:16<00:00,  3.97it/s]\n",
            "                 Class     Images  Instances      Box(P          R      mAP50  mAP50-95): 100%|██████████| 6/6 [00:01<00:00,  5.55it/s]"
          ]
        },
        {
          "output_type": "stream",
          "name": "stdout",
          "text": [
            "                   all         85         85      0.911      0.913      0.965       0.76\n"
          ]
        },
        {
          "output_type": "stream",
          "name": "stderr",
          "text": [
            "\n"
          ]
        },
        {
          "output_type": "stream",
          "name": "stdout",
          "text": [
            "\n",
            "      Epoch    GPU_mem   box_loss   cls_loss   dfl_loss  Instances       Size\n"
          ]
        },
        {
          "output_type": "stream",
          "name": "stderr",
          "text": [
            "      18/57      1.17G     0.8668     0.8476      1.064          8        640: 100%|██████████| 67/67 [00:17<00:00,  3.91it/s]\n",
            "                 Class     Images  Instances      Box(P          R      mAP50  mAP50-95): 100%|██████████| 6/6 [00:01<00:00,  5.51it/s]"
          ]
        },
        {
          "output_type": "stream",
          "name": "stdout",
          "text": [
            "                   all         85         85      0.894      0.855      0.947      0.771\n"
          ]
        },
        {
          "output_type": "stream",
          "name": "stderr",
          "text": [
            "\n"
          ]
        },
        {
          "output_type": "stream",
          "name": "stdout",
          "text": [
            "\n",
            "      Epoch    GPU_mem   box_loss   cls_loss   dfl_loss  Instances       Size\n"
          ]
        },
        {
          "output_type": "stream",
          "name": "stderr",
          "text": [
            "      19/57      1.17G      0.873     0.8373       1.07          7        640: 100%|██████████| 67/67 [00:16<00:00,  3.96it/s]\n",
            "                 Class     Images  Instances      Box(P          R      mAP50  mAP50-95): 100%|██████████| 6/6 [00:01<00:00,  5.91it/s]"
          ]
        },
        {
          "output_type": "stream",
          "name": "stdout",
          "text": [
            "                   all         85         85      0.871      0.867      0.863      0.681\n"
          ]
        },
        {
          "output_type": "stream",
          "name": "stderr",
          "text": [
            "\n"
          ]
        },
        {
          "output_type": "stream",
          "name": "stdout",
          "text": [
            "\n",
            "      Epoch    GPU_mem   box_loss   cls_loss   dfl_loss  Instances       Size\n"
          ]
        },
        {
          "output_type": "stream",
          "name": "stderr",
          "text": [
            "      20/57      1.21G     0.9361     0.8596      1.091         10        640: 100%|██████████| 67/67 [00:15<00:00,  4.22it/s]\n",
            "                 Class     Images  Instances      Box(P          R      mAP50  mAP50-95): 100%|██████████| 6/6 [00:01<00:00,  5.04it/s]"
          ]
        },
        {
          "output_type": "stream",
          "name": "stdout",
          "text": [
            "                   all         85         85      0.662      0.857      0.853      0.697\n"
          ]
        },
        {
          "output_type": "stream",
          "name": "stderr",
          "text": [
            "\n"
          ]
        },
        {
          "output_type": "stream",
          "name": "stdout",
          "text": [
            "\n",
            "      Epoch    GPU_mem   box_loss   cls_loss   dfl_loss  Instances       Size\n"
          ]
        },
        {
          "output_type": "stream",
          "name": "stderr",
          "text": [
            "      21/57      1.21G     0.8799     0.8137      1.071          5        640: 100%|██████████| 67/67 [00:16<00:00,  3.95it/s]\n",
            "                 Class     Images  Instances      Box(P          R      mAP50  mAP50-95): 100%|██████████| 6/6 [00:01<00:00,  5.94it/s]"
          ]
        },
        {
          "output_type": "stream",
          "name": "stdout",
          "text": [
            "                   all         85         85      0.913      0.978      0.983      0.836\n"
          ]
        },
        {
          "output_type": "stream",
          "name": "stderr",
          "text": [
            "\n"
          ]
        },
        {
          "output_type": "stream",
          "name": "stdout",
          "text": [
            "\n",
            "      Epoch    GPU_mem   box_loss   cls_loss   dfl_loss  Instances       Size\n"
          ]
        },
        {
          "output_type": "stream",
          "name": "stderr",
          "text": [
            "      22/57      1.21G     0.8896     0.8234      1.078          7        640: 100%|██████████| 67/67 [00:16<00:00,  4.03it/s]\n",
            "                 Class     Images  Instances      Box(P          R      mAP50  mAP50-95): 100%|██████████| 6/6 [00:01<00:00,  5.49it/s]"
          ]
        },
        {
          "output_type": "stream",
          "name": "stdout",
          "text": [
            "                   all         85         85      0.971      0.935      0.977      0.795\n"
          ]
        },
        {
          "output_type": "stream",
          "name": "stderr",
          "text": [
            "\n"
          ]
        },
        {
          "output_type": "stream",
          "name": "stdout",
          "text": [
            "\n",
            "      Epoch    GPU_mem   box_loss   cls_loss   dfl_loss  Instances       Size\n"
          ]
        },
        {
          "output_type": "stream",
          "name": "stderr",
          "text": [
            "      23/57      1.21G     0.8681     0.7581      1.068          9        640: 100%|██████████| 67/67 [00:16<00:00,  4.02it/s]\n",
            "                 Class     Images  Instances      Box(P          R      mAP50  mAP50-95): 100%|██████████| 6/6 [00:01<00:00,  5.47it/s]"
          ]
        },
        {
          "output_type": "stream",
          "name": "stdout",
          "text": [
            "                   all         85         85      0.955      0.906      0.959      0.765\n"
          ]
        },
        {
          "output_type": "stream",
          "name": "stderr",
          "text": [
            "\n"
          ]
        },
        {
          "output_type": "stream",
          "name": "stdout",
          "text": [
            "\n",
            "      Epoch    GPU_mem   box_loss   cls_loss   dfl_loss  Instances       Size\n"
          ]
        },
        {
          "output_type": "stream",
          "name": "stderr",
          "text": [
            "      24/57      1.21G     0.8692     0.7736      1.059         12        640: 100%|██████████| 67/67 [00:16<00:00,  3.95it/s]\n",
            "                 Class     Images  Instances      Box(P          R      mAP50  mAP50-95): 100%|██████████| 6/6 [00:01<00:00,  5.63it/s]"
          ]
        },
        {
          "output_type": "stream",
          "name": "stdout",
          "text": [
            "                   all         85         85      0.898      0.857      0.946      0.779\n"
          ]
        },
        {
          "output_type": "stream",
          "name": "stderr",
          "text": [
            "\n"
          ]
        },
        {
          "output_type": "stream",
          "name": "stdout",
          "text": [
            "\n",
            "      Epoch    GPU_mem   box_loss   cls_loss   dfl_loss  Instances       Size\n"
          ]
        },
        {
          "output_type": "stream",
          "name": "stderr",
          "text": [
            "      25/57       1.2G     0.8882     0.7643      1.071          5        640: 100%|██████████| 67/67 [00:17<00:00,  3.83it/s]\n",
            "                 Class     Images  Instances      Box(P          R      mAP50  mAP50-95): 100%|██████████| 6/6 [00:01<00:00,  5.10it/s]"
          ]
        },
        {
          "output_type": "stream",
          "name": "stdout",
          "text": [
            "                   all         85         85      0.919      0.925      0.977      0.781\n"
          ]
        },
        {
          "output_type": "stream",
          "name": "stderr",
          "text": [
            "\n"
          ]
        },
        {
          "output_type": "stream",
          "name": "stdout",
          "text": [
            "\n",
            "      Epoch    GPU_mem   box_loss   cls_loss   dfl_loss  Instances       Size\n"
          ]
        },
        {
          "output_type": "stream",
          "name": "stderr",
          "text": [
            "      26/57      1.17G     0.8872     0.7935       1.07          6        640: 100%|██████████| 67/67 [00:17<00:00,  3.89it/s]\n",
            "                 Class     Images  Instances      Box(P          R      mAP50  mAP50-95): 100%|██████████| 6/6 [00:01<00:00,  5.42it/s]"
          ]
        },
        {
          "output_type": "stream",
          "name": "stdout",
          "text": [
            "                   all         85         85      0.884      0.921      0.953      0.789\n"
          ]
        },
        {
          "output_type": "stream",
          "name": "stderr",
          "text": [
            "\n"
          ]
        },
        {
          "output_type": "stream",
          "name": "stdout",
          "text": [
            "\n",
            "      Epoch    GPU_mem   box_loss   cls_loss   dfl_loss  Instances       Size\n"
          ]
        },
        {
          "output_type": "stream",
          "name": "stderr",
          "text": [
            "      27/57      1.17G     0.8677     0.7427      1.055          9        640: 100%|██████████| 67/67 [00:16<00:00,  3.96it/s]\n",
            "                 Class     Images  Instances      Box(P          R      mAP50  mAP50-95): 100%|██████████| 6/6 [00:01<00:00,  5.70it/s]"
          ]
        },
        {
          "output_type": "stream",
          "name": "stdout",
          "text": [
            "                   all         85         85      0.941      0.941      0.973      0.806\n"
          ]
        },
        {
          "output_type": "stream",
          "name": "stderr",
          "text": [
            "\n"
          ]
        },
        {
          "output_type": "stream",
          "name": "stdout",
          "text": [
            "\n",
            "      Epoch    GPU_mem   box_loss   cls_loss   dfl_loss  Instances       Size\n"
          ]
        },
        {
          "output_type": "stream",
          "name": "stderr",
          "text": [
            "      28/57      1.21G      0.833     0.7363       1.05          6        640: 100%|██████████| 67/67 [00:16<00:00,  3.99it/s]\n",
            "                 Class     Images  Instances      Box(P          R      mAP50  mAP50-95): 100%|██████████| 6/6 [00:01<00:00,  5.72it/s]"
          ]
        },
        {
          "output_type": "stream",
          "name": "stdout",
          "text": [
            "                   all         85         85      0.965      0.935      0.986      0.808\n"
          ]
        },
        {
          "output_type": "stream",
          "name": "stderr",
          "text": [
            "\n"
          ]
        },
        {
          "output_type": "stream",
          "name": "stdout",
          "text": [
            "\n",
            "      Epoch    GPU_mem   box_loss   cls_loss   dfl_loss  Instances       Size\n"
          ]
        },
        {
          "output_type": "stream",
          "name": "stderr",
          "text": [
            "      29/57      1.21G     0.8125     0.6963      1.026          8        640: 100%|██████████| 67/67 [00:16<00:00,  4.01it/s]\n",
            "                 Class     Images  Instances      Box(P          R      mAP50  mAP50-95): 100%|██████████| 6/6 [00:01<00:00,  5.69it/s]"
          ]
        },
        {
          "output_type": "stream",
          "name": "stdout",
          "text": [
            "                   all         85         85      0.962      0.981      0.993      0.824\n"
          ]
        },
        {
          "output_type": "stream",
          "name": "stderr",
          "text": [
            "\n"
          ]
        },
        {
          "output_type": "stream",
          "name": "stdout",
          "text": [
            "\n",
            "      Epoch    GPU_mem   box_loss   cls_loss   dfl_loss  Instances       Size\n"
          ]
        },
        {
          "output_type": "stream",
          "name": "stderr",
          "text": [
            "      30/57      1.21G     0.7958     0.6688      1.026         10        640: 100%|██████████| 67/67 [00:16<00:00,  4.00it/s]\n",
            "                 Class     Images  Instances      Box(P          R      mAP50  mAP50-95): 100%|██████████| 6/6 [00:01<00:00,  5.88it/s]"
          ]
        },
        {
          "output_type": "stream",
          "name": "stdout",
          "text": [
            "                   all         85         85      0.917      0.926      0.976      0.842\n"
          ]
        },
        {
          "output_type": "stream",
          "name": "stderr",
          "text": [
            "\n"
          ]
        },
        {
          "output_type": "stream",
          "name": "stdout",
          "text": [
            "\n",
            "      Epoch    GPU_mem   box_loss   cls_loss   dfl_loss  Instances       Size\n"
          ]
        },
        {
          "output_type": "stream",
          "name": "stderr",
          "text": [
            "      31/57      1.21G     0.8353     0.6862      1.048          9        640: 100%|██████████| 67/67 [00:16<00:00,  4.06it/s]\n",
            "                 Class     Images  Instances      Box(P          R      mAP50  mAP50-95): 100%|██████████| 6/6 [00:01<00:00,  4.39it/s]"
          ]
        },
        {
          "output_type": "stream",
          "name": "stdout",
          "text": [
            "                   all         85         85       0.97      0.933      0.968      0.808\n"
          ]
        },
        {
          "output_type": "stream",
          "name": "stderr",
          "text": [
            "\n"
          ]
        },
        {
          "output_type": "stream",
          "name": "stdout",
          "text": [
            "\n",
            "      Epoch    GPU_mem   box_loss   cls_loss   dfl_loss  Instances       Size\n"
          ]
        },
        {
          "output_type": "stream",
          "name": "stderr",
          "text": [
            "      32/57      1.17G      0.823     0.6489      1.029          6        640: 100%|██████████| 67/67 [00:16<00:00,  4.18it/s]\n",
            "                 Class     Images  Instances      Box(P          R      mAP50  mAP50-95): 100%|██████████| 6/6 [00:01<00:00,  3.74it/s]"
          ]
        },
        {
          "output_type": "stream",
          "name": "stdout",
          "text": [
            "                   all         85         85      0.968      0.921      0.982      0.798\n"
          ]
        },
        {
          "output_type": "stream",
          "name": "stderr",
          "text": [
            "\n"
          ]
        },
        {
          "output_type": "stream",
          "name": "stdout",
          "text": [
            "\n",
            "      Epoch    GPU_mem   box_loss   cls_loss   dfl_loss  Instances       Size\n"
          ]
        },
        {
          "output_type": "stream",
          "name": "stderr",
          "text": [
            "      33/57      1.16G     0.8118     0.6133      1.033         11        640: 100%|██████████| 67/67 [00:15<00:00,  4.44it/s]\n",
            "                 Class     Images  Instances      Box(P          R      mAP50  mAP50-95): 100%|██████████| 6/6 [00:01<00:00,  3.03it/s]\n"
          ]
        },
        {
          "output_type": "stream",
          "name": "stdout",
          "text": [
            "                   all         85         85      0.975      0.945      0.979      0.768\n",
            "\n",
            "      Epoch    GPU_mem   box_loss   cls_loss   dfl_loss  Instances       Size\n"
          ]
        },
        {
          "output_type": "stream",
          "name": "stderr",
          "text": [
            "      34/57      1.17G     0.7886     0.6089      1.033          6        640: 100%|██████████| 67/67 [00:15<00:00,  4.32it/s]\n",
            "                 Class     Images  Instances      Box(P          R      mAP50  mAP50-95): 100%|██████████| 6/6 [00:01<00:00,  3.24it/s]\n"
          ]
        },
        {
          "output_type": "stream",
          "name": "stdout",
          "text": [
            "                   all         85         85      0.987      0.911      0.985      0.804\n",
            "\n",
            "      Epoch    GPU_mem   box_loss   cls_loss   dfl_loss  Instances       Size\n"
          ]
        },
        {
          "output_type": "stream",
          "name": "stderr",
          "text": [
            "      35/57      1.18G     0.7689     0.6076       1.01          3        640: 100%|██████████| 67/67 [00:15<00:00,  4.33it/s]\n",
            "                 Class     Images  Instances      Box(P          R      mAP50  mAP50-95): 100%|██████████| 6/6 [00:01<00:00,  3.09it/s]"
          ]
        },
        {
          "output_type": "stream",
          "name": "stdout",
          "text": [
            "                   all         85         85      0.971      0.972      0.993      0.811\n"
          ]
        },
        {
          "output_type": "stream",
          "name": "stderr",
          "text": [
            "\n"
          ]
        },
        {
          "output_type": "stream",
          "name": "stdout",
          "text": [
            "\n",
            "      Epoch    GPU_mem   box_loss   cls_loss   dfl_loss  Instances       Size\n"
          ]
        },
        {
          "output_type": "stream",
          "name": "stderr",
          "text": [
            "      36/57      1.21G     0.7777     0.5847      1.018          8        640: 100%|██████████| 67/67 [00:15<00:00,  4.39it/s]\n",
            "                 Class     Images  Instances      Box(P          R      mAP50  mAP50-95): 100%|██████████| 6/6 [00:02<00:00,  2.94it/s]"
          ]
        },
        {
          "output_type": "stream",
          "name": "stdout",
          "text": [
            "                   all         85         85       0.98      0.944      0.987      0.806\n"
          ]
        },
        {
          "output_type": "stream",
          "name": "stderr",
          "text": [
            "\n"
          ]
        },
        {
          "output_type": "stream",
          "name": "stdout",
          "text": [
            "\n",
            "      Epoch    GPU_mem   box_loss   cls_loss   dfl_loss  Instances       Size\n"
          ]
        },
        {
          "output_type": "stream",
          "name": "stderr",
          "text": [
            "      37/57      1.21G     0.7762     0.5991      1.025          5        640: 100%|██████████| 67/67 [00:14<00:00,  4.49it/s]\n",
            "                 Class     Images  Instances      Box(P          R      mAP50  mAP50-95): 100%|██████████| 6/6 [00:01<00:00,  4.13it/s]"
          ]
        },
        {
          "output_type": "stream",
          "name": "stdout",
          "text": [
            "                   all         85         85      0.985      0.976      0.992      0.821\n"
          ]
        },
        {
          "output_type": "stream",
          "name": "stderr",
          "text": [
            "\n"
          ]
        },
        {
          "output_type": "stream",
          "name": "stdout",
          "text": [
            "\n",
            "      Epoch    GPU_mem   box_loss   cls_loss   dfl_loss  Instances       Size\n"
          ]
        },
        {
          "output_type": "stream",
          "name": "stderr",
          "text": [
            "      38/57      1.21G     0.8074     0.5938      1.023          9        640: 100%|██████████| 67/67 [00:15<00:00,  4.32it/s]\n",
            "                 Class     Images  Instances      Box(P          R      mAP50  mAP50-95): 100%|██████████| 6/6 [00:01<00:00,  3.51it/s]"
          ]
        },
        {
          "output_type": "stream",
          "name": "stdout",
          "text": [
            "                   all         85         85      0.953      0.923      0.978      0.824\n"
          ]
        },
        {
          "output_type": "stream",
          "name": "stderr",
          "text": [
            "\n"
          ]
        },
        {
          "output_type": "stream",
          "name": "stdout",
          "text": [
            "\n",
            "      Epoch    GPU_mem   box_loss   cls_loss   dfl_loss  Instances       Size\n"
          ]
        },
        {
          "output_type": "stream",
          "name": "stderr",
          "text": [
            "      39/57      1.21G     0.7625     0.5888      1.012          6        640: 100%|██████████| 67/67 [00:15<00:00,  4.36it/s]\n",
            "                 Class     Images  Instances      Box(P          R      mAP50  mAP50-95): 100%|██████████| 6/6 [00:02<00:00,  2.84it/s]"
          ]
        },
        {
          "output_type": "stream",
          "name": "stdout",
          "text": [
            "                   all         85         85      0.939      0.915       0.97      0.809\n"
          ]
        },
        {
          "output_type": "stream",
          "name": "stderr",
          "text": [
            "\n"
          ]
        },
        {
          "output_type": "stream",
          "name": "stdout",
          "text": [
            "\n",
            "      Epoch    GPU_mem   box_loss   cls_loss   dfl_loss  Instances       Size\n"
          ]
        },
        {
          "output_type": "stream",
          "name": "stderr",
          "text": [
            "      40/57      1.17G     0.7631     0.5752      1.022          8        640: 100%|██████████| 67/67 [00:15<00:00,  4.37it/s]\n",
            "                 Class     Images  Instances      Box(P          R      mAP50  mAP50-95): 100%|██████████| 6/6 [00:01<00:00,  3.12it/s]\n"
          ]
        },
        {
          "output_type": "stream",
          "name": "stdout",
          "text": [
            "                   all         85         85      0.964      0.951      0.983      0.824\n",
            "\n",
            "      Epoch    GPU_mem   box_loss   cls_loss   dfl_loss  Instances       Size\n"
          ]
        },
        {
          "output_type": "stream",
          "name": "stderr",
          "text": [
            "      41/57      1.17G     0.7635     0.5539      1.009         12        640: 100%|██████████| 67/67 [00:15<00:00,  4.37it/s]\n",
            "                 Class     Images  Instances      Box(P          R      mAP50  mAP50-95): 100%|██████████| 6/6 [00:01<00:00,  3.09it/s]"
          ]
        },
        {
          "output_type": "stream",
          "name": "stdout",
          "text": [
            "                   all         85         85      0.996      0.997      0.995      0.841\n"
          ]
        },
        {
          "output_type": "stream",
          "name": "stderr",
          "text": [
            "\n"
          ]
        },
        {
          "output_type": "stream",
          "name": "stdout",
          "text": [
            "\n",
            "      Epoch    GPU_mem   box_loss   cls_loss   dfl_loss  Instances       Size\n"
          ]
        },
        {
          "output_type": "stream",
          "name": "stderr",
          "text": [
            "      42/57      1.17G     0.7309     0.5309     0.9867          6        640: 100%|██████████| 67/67 [00:14<00:00,  4.52it/s]\n",
            "                 Class     Images  Instances      Box(P          R      mAP50  mAP50-95): 100%|██████████| 6/6 [00:01<00:00,  3.63it/s]"
          ]
        },
        {
          "output_type": "stream",
          "name": "stdout",
          "text": [
            "                   all         85         85          1      0.976      0.994      0.834\n"
          ]
        },
        {
          "output_type": "stream",
          "name": "stderr",
          "text": [
            "\n"
          ]
        },
        {
          "output_type": "stream",
          "name": "stdout",
          "text": [
            "\n",
            "      Epoch    GPU_mem   box_loss   cls_loss   dfl_loss  Instances       Size\n"
          ]
        },
        {
          "output_type": "stream",
          "name": "stderr",
          "text": [
            "      43/57      1.17G     0.7716     0.5682      1.014          7        640: 100%|██████████| 67/67 [00:15<00:00,  4.46it/s]\n",
            "                 Class     Images  Instances      Box(P          R      mAP50  mAP50-95): 100%|██████████| 6/6 [00:02<00:00,  2.94it/s]"
          ]
        },
        {
          "output_type": "stream",
          "name": "stdout",
          "text": [
            "                   all         85         85      0.974       0.96       0.98      0.808\n"
          ]
        },
        {
          "output_type": "stream",
          "name": "stderr",
          "text": [
            "\n"
          ]
        },
        {
          "output_type": "stream",
          "name": "stdout",
          "text": [
            "\n",
            "      Epoch    GPU_mem   box_loss   cls_loss   dfl_loss  Instances       Size\n"
          ]
        },
        {
          "output_type": "stream",
          "name": "stderr",
          "text": [
            "      44/57      1.21G     0.7519     0.5416     0.9916          6        640: 100%|██████████| 67/67 [00:15<00:00,  4.35it/s]\n",
            "                 Class     Images  Instances      Box(P          R      mAP50  mAP50-95): 100%|██████████| 6/6 [00:01<00:00,  3.28it/s]"
          ]
        },
        {
          "output_type": "stream",
          "name": "stdout",
          "text": [
            "                   all         85         85      0.972      0.929      0.969      0.831\n"
          ]
        },
        {
          "output_type": "stream",
          "name": "stderr",
          "text": [
            "\n"
          ]
        },
        {
          "output_type": "stream",
          "name": "stdout",
          "text": [
            "\n",
            "      Epoch    GPU_mem   box_loss   cls_loss   dfl_loss  Instances       Size\n"
          ]
        },
        {
          "output_type": "stream",
          "name": "stderr",
          "text": [
            "      45/57      1.21G     0.7461     0.5293      0.989         10        640: 100%|██████████| 67/67 [00:14<00:00,  4.51it/s]\n",
            "                 Class     Images  Instances      Box(P          R      mAP50  mAP50-95): 100%|██████████| 6/6 [00:01<00:00,  3.76it/s]"
          ]
        },
        {
          "output_type": "stream",
          "name": "stdout",
          "text": [
            "                   all         85         85      0.968      0.935      0.966      0.826\n"
          ]
        },
        {
          "output_type": "stream",
          "name": "stderr",
          "text": [
            "\n"
          ]
        },
        {
          "output_type": "stream",
          "name": "stdout",
          "text": [
            "\n",
            "      Epoch    GPU_mem   box_loss   cls_loss   dfl_loss  Instances       Size\n"
          ]
        },
        {
          "output_type": "stream",
          "name": "stderr",
          "text": [
            "      46/57      1.21G     0.7465     0.5527      1.004         10        640: 100%|██████████| 67/67 [00:14<00:00,  4.60it/s]\n",
            "                 Class     Images  Instances      Box(P          R      mAP50  mAP50-95): 100%|██████████| 6/6 [00:01<00:00,  3.87it/s]"
          ]
        },
        {
          "output_type": "stream",
          "name": "stdout",
          "text": [
            "                   all         85         85      0.962      0.908      0.982      0.833\n"
          ]
        },
        {
          "output_type": "stream",
          "name": "stderr",
          "text": [
            "\n"
          ]
        },
        {
          "output_type": "stream",
          "name": "stdout",
          "text": [
            "\n",
            "      Epoch    GPU_mem   box_loss   cls_loss   dfl_loss  Instances       Size\n"
          ]
        },
        {
          "output_type": "stream",
          "name": "stderr",
          "text": [
            "      47/57      1.21G     0.7279     0.5335     0.9954          9        640: 100%|██████████| 67/67 [00:15<00:00,  4.35it/s]\n",
            "                 Class     Images  Instances      Box(P          R      mAP50  mAP50-95): 100%|██████████| 6/6 [00:01<00:00,  3.65it/s]"
          ]
        },
        {
          "output_type": "stream",
          "name": "stdout",
          "text": [
            "                   all         85         85      0.962      0.922      0.959      0.797\n"
          ]
        },
        {
          "output_type": "stream",
          "name": "stderr",
          "text": [
            "\n"
          ]
        },
        {
          "output_type": "stream",
          "name": "stdout",
          "text": [
            "Closing dataloader mosaic\n",
            "\u001b[34m\u001b[1malbumentations: \u001b[0mBlur(p=0.01, blur_limit=(3, 7)), MedianBlur(p=0.01, blur_limit=(3, 7)), ToGray(p=0.01, num_output_channels=3, method='weighted_average'), CLAHE(p=0.01, clip_limit=(1.0, 4.0), tile_grid_size=(8, 8))\n",
            "\n",
            "      Epoch    GPU_mem   box_loss   cls_loss   dfl_loss  Instances       Size\n"
          ]
        },
        {
          "output_type": "stream",
          "name": "stderr",
          "text": [
            "      48/57      1.17G     0.6085     0.4084     0.9497          4        640: 100%|██████████| 67/67 [00:15<00:00,  4.26it/s]\n",
            "                 Class     Images  Instances      Box(P          R      mAP50  mAP50-95): 100%|██████████| 6/6 [00:01<00:00,  3.03it/s]"
          ]
        },
        {
          "output_type": "stream",
          "name": "stdout",
          "text": [
            "                   all         85         85      0.969      0.921      0.975      0.831\n"
          ]
        },
        {
          "output_type": "stream",
          "name": "stderr",
          "text": [
            "\n"
          ]
        },
        {
          "output_type": "stream",
          "name": "stdout",
          "text": [
            "\n",
            "      Epoch    GPU_mem   box_loss   cls_loss   dfl_loss  Instances       Size\n"
          ]
        },
        {
          "output_type": "stream",
          "name": "stderr",
          "text": [
            "      49/57      1.16G     0.6055     0.4014     0.9608          4        640: 100%|██████████| 67/67 [00:14<00:00,  4.78it/s]\n",
            "                 Class     Images  Instances      Box(P          R      mAP50  mAP50-95): 100%|██████████| 6/6 [00:01<00:00,  4.08it/s]"
          ]
        },
        {
          "output_type": "stream",
          "name": "stdout",
          "text": [
            "                   all         85         85      0.968      0.921      0.979       0.83\n"
          ]
        },
        {
          "output_type": "stream",
          "name": "stderr",
          "text": [
            "\n"
          ]
        },
        {
          "output_type": "stream",
          "name": "stdout",
          "text": [
            "\n",
            "      Epoch    GPU_mem   box_loss   cls_loss   dfl_loss  Instances       Size\n"
          ]
        },
        {
          "output_type": "stream",
          "name": "stderr",
          "text": [
            "      50/57      1.17G      0.587     0.3789     0.9304          4        640: 100%|██████████| 67/67 [00:14<00:00,  4.69it/s]\n",
            "                 Class     Images  Instances      Box(P          R      mAP50  mAP50-95): 100%|██████████| 6/6 [00:02<00:00,  2.87it/s]"
          ]
        },
        {
          "output_type": "stream",
          "name": "stdout",
          "text": [
            "                   all         85         85       0.96      0.917      0.981      0.834\n"
          ]
        },
        {
          "output_type": "stream",
          "name": "stderr",
          "text": [
            "\n"
          ]
        },
        {
          "output_type": "stream",
          "name": "stdout",
          "text": [
            "\n",
            "      Epoch    GPU_mem   box_loss   cls_loss   dfl_loss  Instances       Size\n"
          ]
        },
        {
          "output_type": "stream",
          "name": "stderr",
          "text": [
            "      51/57      1.17G     0.5784      0.379     0.9294          4        640: 100%|██████████| 67/67 [00:14<00:00,  4.65it/s]\n",
            "                 Class     Images  Instances      Box(P          R      mAP50  mAP50-95): 100%|██████████| 6/6 [00:00<00:00,  6.54it/s]"
          ]
        },
        {
          "output_type": "stream",
          "name": "stdout",
          "text": [
            "                   all         85         85      0.957      0.981      0.993      0.854\n"
          ]
        },
        {
          "output_type": "stream",
          "name": "stderr",
          "text": [
            "\n"
          ]
        },
        {
          "output_type": "stream",
          "name": "stdout",
          "text": [
            "\n",
            "      Epoch    GPU_mem   box_loss   cls_loss   dfl_loss  Instances       Size\n"
          ]
        },
        {
          "output_type": "stream",
          "name": "stderr",
          "text": [
            "      52/57      1.17G      0.588     0.3643     0.9229          4        640: 100%|██████████| 67/67 [00:15<00:00,  4.26it/s]\n",
            "                 Class     Images  Instances      Box(P          R      mAP50  mAP50-95): 100%|██████████| 6/6 [00:01<00:00,  5.91it/s]"
          ]
        },
        {
          "output_type": "stream",
          "name": "stdout",
          "text": [
            "                   all         85         85      0.943      0.995       0.99      0.842\n"
          ]
        },
        {
          "output_type": "stream",
          "name": "stderr",
          "text": [
            "\n"
          ]
        },
        {
          "output_type": "stream",
          "name": "stdout",
          "text": [
            "\n",
            "      Epoch    GPU_mem   box_loss   cls_loss   dfl_loss  Instances       Size\n"
          ]
        },
        {
          "output_type": "stream",
          "name": "stderr",
          "text": [
            "      53/57      1.17G     0.5725     0.3564     0.9302          4        640: 100%|██████████| 67/67 [00:15<00:00,  4.25it/s]\n",
            "                 Class     Images  Instances      Box(P          R      mAP50  mAP50-95): 100%|██████████| 6/6 [00:00<00:00,  6.15it/s]"
          ]
        },
        {
          "output_type": "stream",
          "name": "stdout",
          "text": [
            "                   all         85         85      0.944      0.995      0.991      0.855\n"
          ]
        },
        {
          "output_type": "stream",
          "name": "stderr",
          "text": [
            "\n"
          ]
        },
        {
          "output_type": "stream",
          "name": "stdout",
          "text": [
            "\n",
            "      Epoch    GPU_mem   box_loss   cls_loss   dfl_loss  Instances       Size\n"
          ]
        },
        {
          "output_type": "stream",
          "name": "stderr",
          "text": [
            "      54/57      1.17G     0.5704      0.351     0.9229          4        640: 100%|██████████| 67/67 [00:16<00:00,  4.11it/s]\n",
            "                 Class     Images  Instances      Box(P          R      mAP50  mAP50-95): 100%|██████████| 6/6 [00:00<00:00,  6.89it/s]"
          ]
        },
        {
          "output_type": "stream",
          "name": "stdout",
          "text": [
            "                   all         85         85       0.97      0.951      0.989      0.844\n"
          ]
        },
        {
          "output_type": "stream",
          "name": "stderr",
          "text": [
            "\n"
          ]
        },
        {
          "output_type": "stream",
          "name": "stdout",
          "text": [
            "\n",
            "      Epoch    GPU_mem   box_loss   cls_loss   dfl_loss  Instances       Size\n"
          ]
        },
        {
          "output_type": "stream",
          "name": "stderr",
          "text": [
            "      55/57      1.21G     0.5394     0.3391     0.9151          4        640: 100%|██████████| 67/67 [00:16<00:00,  4.09it/s]\n",
            "                 Class     Images  Instances      Box(P          R      mAP50  mAP50-95): 100%|██████████| 6/6 [00:00<00:00,  6.53it/s]"
          ]
        },
        {
          "output_type": "stream",
          "name": "stdout",
          "text": [
            "                   all         85         85      0.969       0.95      0.988      0.857\n"
          ]
        },
        {
          "output_type": "stream",
          "name": "stderr",
          "text": [
            "\n"
          ]
        },
        {
          "output_type": "stream",
          "name": "stdout",
          "text": [
            "\n",
            "      Epoch    GPU_mem   box_loss   cls_loss   dfl_loss  Instances       Size\n"
          ]
        },
        {
          "output_type": "stream",
          "name": "stderr",
          "text": [
            "      56/57      1.21G     0.5598      0.348     0.9276          4        640: 100%|██████████| 67/67 [00:15<00:00,  4.21it/s]\n",
            "                 Class     Images  Instances      Box(P          R      mAP50  mAP50-95): 100%|██████████| 6/6 [00:01<00:00,  5.45it/s]"
          ]
        },
        {
          "output_type": "stream",
          "name": "stdout",
          "text": [
            "                   all         85         85       0.97      0.948      0.988      0.852\n"
          ]
        },
        {
          "output_type": "stream",
          "name": "stderr",
          "text": [
            "\n"
          ]
        },
        {
          "output_type": "stream",
          "name": "stdout",
          "text": [
            "\n",
            "      Epoch    GPU_mem   box_loss   cls_loss   dfl_loss  Instances       Size\n"
          ]
        },
        {
          "output_type": "stream",
          "name": "stderr",
          "text": [
            "      57/57       1.2G     0.5425     0.3373     0.9216          4        640: 100%|██████████| 67/67 [00:16<00:00,  4.13it/s]\n",
            "                 Class     Images  Instances      Box(P          R      mAP50  mAP50-95): 100%|██████████| 6/6 [00:01<00:00,  5.80it/s]"
          ]
        },
        {
          "output_type": "stream",
          "name": "stdout",
          "text": [
            "                   all         85         85      0.971      0.948      0.989       0.85\n"
          ]
        },
        {
          "output_type": "stream",
          "name": "stderr",
          "text": [
            "\n"
          ]
        },
        {
          "output_type": "stream",
          "name": "stdout",
          "text": [
            "\n",
            "57 epochs completed in 0.294 hours.\n",
            "Optimizer stripped from runs/detect/train2/weights/last.pt, 6.3MB\n",
            "Optimizer stripped from runs/detect/train2/weights/best.pt, 6.3MB\n",
            "\n",
            "Validating runs/detect/train2/weights/best.pt...\n",
            "Ultralytics 8.3.56 🚀 Python-3.10.12 torch-2.5.1+cu121 CUDA:0 (Tesla T4, 15102MiB)\n",
            "Model summary (fused): 168 layers, 3,006,233 parameters, 0 gradients, 8.1 GFLOPs\n"
          ]
        },
        {
          "output_type": "stream",
          "name": "stderr",
          "text": [
            "                 Class     Images  Instances      Box(P          R      mAP50  mAP50-95): 100%|██████████| 6/6 [00:02<00:00,  2.73it/s]\n"
          ]
        },
        {
          "output_type": "stream",
          "name": "stdout",
          "text": [
            "                   all         85         85      0.969       0.95      0.988      0.851\n",
            "               ketchup         11         11          1      0.905      0.988       0.85\n",
            "                masala         18         18      0.928      0.944      0.982      0.886\n",
            "                  soap         56         56       0.98          1      0.994      0.817\n",
            "Speed: 0.5ms preprocess, 4.5ms inference, 0.0ms loss, 4.4ms postprocess per image\n",
            "Results saved to \u001b[1mruns/detect/train2\u001b[0m\n",
            "Ultralytics 8.3.56 🚀 Python-3.10.12 torch-2.5.1+cu121 CUDA:0 (Tesla T4, 15102MiB)\n",
            "Model summary (fused): 168 layers, 3,006,233 parameters, 0 gradients, 8.1 GFLOPs\n"
          ]
        },
        {
          "output_type": "stream",
          "name": "stderr",
          "text": [
            "\u001b[34m\u001b[1mval: \u001b[0mScanning /content/drive/MyDrive/Data/grocery_yolov8/grocery_yolov8/valid/labels.cache... 85 images, 0 backgrounds, 0 corrupt: 100%|██████████| 85/85 [00:00<?, ?it/s]\n",
            "                 Class     Images  Instances      Box(P          R      mAP50  mAP50-95): 100%|██████████| 11/11 [00:03<00:00,  3.04it/s]\n"
          ]
        },
        {
          "output_type": "stream",
          "name": "stdout",
          "text": [
            "                   all         85         85      0.969       0.95      0.988      0.856\n",
            "               ketchup         11         11          1      0.905      0.988      0.862\n",
            "                masala         18         18      0.928      0.944      0.982       0.89\n",
            "                  soap         56         56       0.98          1      0.994      0.818\n",
            "Speed: 0.9ms preprocess, 11.5ms inference, 0.0ms loss, 7.0ms postprocess per image\n",
            "Results saved to \u001b[1mruns/detect/train22\u001b[0m\n",
            "Validation results: ultralytics.utils.metrics.DetMetrics object with attributes:\n",
            "\n",
            "ap_class_index: array([0, 1, 2])\n",
            "box: ultralytics.utils.metrics.Metric object\n",
            "confusion_matrix: <ultralytics.utils.metrics.ConfusionMatrix object at 0x7dacffe20640>\n",
            "curves: ['Precision-Recall(B)', 'F1-Confidence(B)', 'Precision-Confidence(B)', 'Recall-Confidence(B)']\n",
            "curves_results: [[array([          0,    0.001001,    0.002002,    0.003003,    0.004004,    0.005005,    0.006006,    0.007007,    0.008008,    0.009009,     0.01001,    0.011011,    0.012012,    0.013013,    0.014014,    0.015015,    0.016016,    0.017017,    0.018018,    0.019019,     0.02002,    0.021021,    0.022022,    0.023023,\n",
            "          0.024024,    0.025025,    0.026026,    0.027027,    0.028028,    0.029029,     0.03003,    0.031031,    0.032032,    0.033033,    0.034034,    0.035035,    0.036036,    0.037037,    0.038038,    0.039039,     0.04004,    0.041041,    0.042042,    0.043043,    0.044044,    0.045045,    0.046046,    0.047047,\n",
            "          0.048048,    0.049049,     0.05005,    0.051051,    0.052052,    0.053053,    0.054054,    0.055055,    0.056056,    0.057057,    0.058058,    0.059059,     0.06006,    0.061061,    0.062062,    0.063063,    0.064064,    0.065065,    0.066066,    0.067067,    0.068068,    0.069069,     0.07007,    0.071071,\n",
            "          0.072072,    0.073073,    0.074074,    0.075075,    0.076076,    0.077077,    0.078078,    0.079079,     0.08008,    0.081081,    0.082082,    0.083083,    0.084084,    0.085085,    0.086086,    0.087087,    0.088088,    0.089089,     0.09009,    0.091091,    0.092092,    0.093093,    0.094094,    0.095095,\n",
            "          0.096096,    0.097097,    0.098098,    0.099099,      0.1001,      0.1011,      0.1021,      0.1031,      0.1041,     0.10511,     0.10611,     0.10711,     0.10811,     0.10911,     0.11011,     0.11111,     0.11211,     0.11311,     0.11411,     0.11512,     0.11612,     0.11712,     0.11812,     0.11912,\n",
            "           0.12012,     0.12112,     0.12212,     0.12312,     0.12412,     0.12513,     0.12613,     0.12713,     0.12813,     0.12913,     0.13013,     0.13113,     0.13213,     0.13313,     0.13413,     0.13514,     0.13614,     0.13714,     0.13814,     0.13914,     0.14014,     0.14114,     0.14214,     0.14314,\n",
            "           0.14414,     0.14515,     0.14615,     0.14715,     0.14815,     0.14915,     0.15015,     0.15115,     0.15215,     0.15315,     0.15415,     0.15516,     0.15616,     0.15716,     0.15816,     0.15916,     0.16016,     0.16116,     0.16216,     0.16316,     0.16416,     0.16517,     0.16617,     0.16717,\n",
            "           0.16817,     0.16917,     0.17017,     0.17117,     0.17217,     0.17317,     0.17417,     0.17518,     0.17618,     0.17718,     0.17818,     0.17918,     0.18018,     0.18118,     0.18218,     0.18318,     0.18418,     0.18519,     0.18619,     0.18719,     0.18819,     0.18919,     0.19019,     0.19119,\n",
            "           0.19219,     0.19319,     0.19419,      0.1952,      0.1962,      0.1972,      0.1982,      0.1992,      0.2002,      0.2012,      0.2022,      0.2032,      0.2042,     0.20521,     0.20621,     0.20721,     0.20821,     0.20921,     0.21021,     0.21121,     0.21221,     0.21321,     0.21421,     0.21522,\n",
            "           0.21622,     0.21722,     0.21822,     0.21922,     0.22022,     0.22122,     0.22222,     0.22322,     0.22422,     0.22523,     0.22623,     0.22723,     0.22823,     0.22923,     0.23023,     0.23123,     0.23223,     0.23323,     0.23423,     0.23524,     0.23624,     0.23724,     0.23824,     0.23924,\n",
            "           0.24024,     0.24124,     0.24224,     0.24324,     0.24424,     0.24525,     0.24625,     0.24725,     0.24825,     0.24925,     0.25025,     0.25125,     0.25225,     0.25325,     0.25425,     0.25526,     0.25626,     0.25726,     0.25826,     0.25926,     0.26026,     0.26126,     0.26226,     0.26326,\n",
            "           0.26426,     0.26527,     0.26627,     0.26727,     0.26827,     0.26927,     0.27027,     0.27127,     0.27227,     0.27327,     0.27427,     0.27528,     0.27628,     0.27728,     0.27828,     0.27928,     0.28028,     0.28128,     0.28228,     0.28328,     0.28428,     0.28529,     0.28629,     0.28729,\n",
            "           0.28829,     0.28929,     0.29029,     0.29129,     0.29229,     0.29329,     0.29429,      0.2953,      0.2963,      0.2973,      0.2983,      0.2993,      0.3003,      0.3013,      0.3023,      0.3033,      0.3043,     0.30531,     0.30631,     0.30731,     0.30831,     0.30931,     0.31031,     0.31131,\n",
            "           0.31231,     0.31331,     0.31431,     0.31532,     0.31632,     0.31732,     0.31832,     0.31932,     0.32032,     0.32132,     0.32232,     0.32332,     0.32432,     0.32533,     0.32633,     0.32733,     0.32833,     0.32933,     0.33033,     0.33133,     0.33233,     0.33333,     0.33433,     0.33534,\n",
            "           0.33634,     0.33734,     0.33834,     0.33934,     0.34034,     0.34134,     0.34234,     0.34334,     0.34434,     0.34535,     0.34635,     0.34735,     0.34835,     0.34935,     0.35035,     0.35135,     0.35235,     0.35335,     0.35435,     0.35536,     0.35636,     0.35736,     0.35836,     0.35936,\n",
            "           0.36036,     0.36136,     0.36236,     0.36336,     0.36436,     0.36537,     0.36637,     0.36737,     0.36837,     0.36937,     0.37037,     0.37137,     0.37237,     0.37337,     0.37437,     0.37538,     0.37638,     0.37738,     0.37838,     0.37938,     0.38038,     0.38138,     0.38238,     0.38338,\n",
            "           0.38438,     0.38539,     0.38639,     0.38739,     0.38839,     0.38939,     0.39039,     0.39139,     0.39239,     0.39339,     0.39439,      0.3954,      0.3964,      0.3974,      0.3984,      0.3994,      0.4004,      0.4014,      0.4024,      0.4034,      0.4044,     0.40541,     0.40641,     0.40741,\n",
            "           0.40841,     0.40941,     0.41041,     0.41141,     0.41241,     0.41341,     0.41441,     0.41542,     0.41642,     0.41742,     0.41842,     0.41942,     0.42042,     0.42142,     0.42242,     0.42342,     0.42442,     0.42543,     0.42643,     0.42743,     0.42843,     0.42943,     0.43043,     0.43143,\n",
            "           0.43243,     0.43343,     0.43443,     0.43544,     0.43644,     0.43744,     0.43844,     0.43944,     0.44044,     0.44144,     0.44244,     0.44344,     0.44444,     0.44545,     0.44645,     0.44745,     0.44845,     0.44945,     0.45045,     0.45145,     0.45245,     0.45345,     0.45445,     0.45546,\n",
            "           0.45646,     0.45746,     0.45846,     0.45946,     0.46046,     0.46146,     0.46246,     0.46346,     0.46446,     0.46547,     0.46647,     0.46747,     0.46847,     0.46947,     0.47047,     0.47147,     0.47247,     0.47347,     0.47447,     0.47548,     0.47648,     0.47748,     0.47848,     0.47948,\n",
            "           0.48048,     0.48148,     0.48248,     0.48348,     0.48448,     0.48549,     0.48649,     0.48749,     0.48849,     0.48949,     0.49049,     0.49149,     0.49249,     0.49349,     0.49449,      0.4955,      0.4965,      0.4975,      0.4985,      0.4995,      0.5005,      0.5015,      0.5025,      0.5035,\n",
            "            0.5045,     0.50551,     0.50651,     0.50751,     0.50851,     0.50951,     0.51051,     0.51151,     0.51251,     0.51351,     0.51451,     0.51552,     0.51652,     0.51752,     0.51852,     0.51952,     0.52052,     0.52152,     0.52252,     0.52352,     0.52452,     0.52553,     0.52653,     0.52753,\n",
            "           0.52853,     0.52953,     0.53053,     0.53153,     0.53253,     0.53353,     0.53453,     0.53554,     0.53654,     0.53754,     0.53854,     0.53954,     0.54054,     0.54154,     0.54254,     0.54354,     0.54454,     0.54555,     0.54655,     0.54755,     0.54855,     0.54955,     0.55055,     0.55155,\n",
            "           0.55255,     0.55355,     0.55455,     0.55556,     0.55656,     0.55756,     0.55856,     0.55956,     0.56056,     0.56156,     0.56256,     0.56356,     0.56456,     0.56557,     0.56657,     0.56757,     0.56857,     0.56957,     0.57057,     0.57157,     0.57257,     0.57357,     0.57457,     0.57558,\n",
            "           0.57658,     0.57758,     0.57858,     0.57958,     0.58058,     0.58158,     0.58258,     0.58358,     0.58458,     0.58559,     0.58659,     0.58759,     0.58859,     0.58959,     0.59059,     0.59159,     0.59259,     0.59359,     0.59459,      0.5956,      0.5966,      0.5976,      0.5986,      0.5996,\n",
            "            0.6006,      0.6016,      0.6026,      0.6036,      0.6046,     0.60561,     0.60661,     0.60761,     0.60861,     0.60961,     0.61061,     0.61161,     0.61261,     0.61361,     0.61461,     0.61562,     0.61662,     0.61762,     0.61862,     0.61962,     0.62062,     0.62162,     0.62262,     0.62362,\n",
            "           0.62462,     0.62563,     0.62663,     0.62763,     0.62863,     0.62963,     0.63063,     0.63163,     0.63263,     0.63363,     0.63463,     0.63564,     0.63664,     0.63764,     0.63864,     0.63964,     0.64064,     0.64164,     0.64264,     0.64364,     0.64464,     0.64565,     0.64665,     0.64765,\n",
            "           0.64865,     0.64965,     0.65065,     0.65165,     0.65265,     0.65365,     0.65465,     0.65566,     0.65666,     0.65766,     0.65866,     0.65966,     0.66066,     0.66166,     0.66266,     0.66366,     0.66466,     0.66567,     0.66667,     0.66767,     0.66867,     0.66967,     0.67067,     0.67167,\n",
            "           0.67267,     0.67367,     0.67467,     0.67568,     0.67668,     0.67768,     0.67868,     0.67968,     0.68068,     0.68168,     0.68268,     0.68368,     0.68468,     0.68569,     0.68669,     0.68769,     0.68869,     0.68969,     0.69069,     0.69169,     0.69269,     0.69369,     0.69469,      0.6957,\n",
            "            0.6967,      0.6977,      0.6987,      0.6997,      0.7007,      0.7017,      0.7027,      0.7037,      0.7047,     0.70571,     0.70671,     0.70771,     0.70871,     0.70971,     0.71071,     0.71171,     0.71271,     0.71371,     0.71471,     0.71572,     0.71672,     0.71772,     0.71872,     0.71972,\n",
            "           0.72072,     0.72172,     0.72272,     0.72372,     0.72472,     0.72573,     0.72673,     0.72773,     0.72873,     0.72973,     0.73073,     0.73173,     0.73273,     0.73373,     0.73473,     0.73574,     0.73674,     0.73774,     0.73874,     0.73974,     0.74074,     0.74174,     0.74274,     0.74374,\n",
            "           0.74474,     0.74575,     0.74675,     0.74775,     0.74875,     0.74975,     0.75075,     0.75175,     0.75275,     0.75375,     0.75475,     0.75576,     0.75676,     0.75776,     0.75876,     0.75976,     0.76076,     0.76176,     0.76276,     0.76376,     0.76476,     0.76577,     0.76677,     0.76777,\n",
            "           0.76877,     0.76977,     0.77077,     0.77177,     0.77277,     0.77377,     0.77477,     0.77578,     0.77678,     0.77778,     0.77878,     0.77978,     0.78078,     0.78178,     0.78278,     0.78378,     0.78478,     0.78579,     0.78679,     0.78779,     0.78879,     0.78979,     0.79079,     0.79179,\n",
            "           0.79279,     0.79379,     0.79479,      0.7958,      0.7968,      0.7978,      0.7988,      0.7998,      0.8008,      0.8018,      0.8028,      0.8038,      0.8048,     0.80581,     0.80681,     0.80781,     0.80881,     0.80981,     0.81081,     0.81181,     0.81281,     0.81381,     0.81481,     0.81582,\n",
            "           0.81682,     0.81782,     0.81882,     0.81982,     0.82082,     0.82182,     0.82282,     0.82382,     0.82482,     0.82583,     0.82683,     0.82783,     0.82883,     0.82983,     0.83083,     0.83183,     0.83283,     0.83383,     0.83483,     0.83584,     0.83684,     0.83784,     0.83884,     0.83984,\n",
            "           0.84084,     0.84184,     0.84284,     0.84384,     0.84484,     0.84585,     0.84685,     0.84785,     0.84885,     0.84985,     0.85085,     0.85185,     0.85285,     0.85385,     0.85485,     0.85586,     0.85686,     0.85786,     0.85886,     0.85986,     0.86086,     0.86186,     0.86286,     0.86386,\n",
            "           0.86486,     0.86587,     0.86687,     0.86787,     0.86887,     0.86987,     0.87087,     0.87187,     0.87287,     0.87387,     0.87487,     0.87588,     0.87688,     0.87788,     0.87888,     0.87988,     0.88088,     0.88188,     0.88288,     0.88388,     0.88488,     0.88589,     0.88689,     0.88789,\n",
            "           0.88889,     0.88989,     0.89089,     0.89189,     0.89289,     0.89389,     0.89489,      0.8959,      0.8969,      0.8979,      0.8989,      0.8999,      0.9009,      0.9019,      0.9029,      0.9039,      0.9049,     0.90591,     0.90691,     0.90791,     0.90891,     0.90991,     0.91091,     0.91191,\n",
            "           0.91291,     0.91391,     0.91491,     0.91592,     0.91692,     0.91792,     0.91892,     0.91992,     0.92092,     0.92192,     0.92292,     0.92392,     0.92492,     0.92593,     0.92693,     0.92793,     0.92893,     0.92993,     0.93093,     0.93193,     0.93293,     0.93393,     0.93493,     0.93594,\n",
            "           0.93694,     0.93794,     0.93894,     0.93994,     0.94094,     0.94194,     0.94294,     0.94394,     0.94494,     0.94595,     0.94695,     0.94795,     0.94895,     0.94995,     0.95095,     0.95195,     0.95295,     0.95395,     0.95495,     0.95596,     0.95696,     0.95796,     0.95896,     0.95996,\n",
            "           0.96096,     0.96196,     0.96296,     0.96396,     0.96496,     0.96597,     0.96697,     0.96797,     0.96897,     0.96997,     0.97097,     0.97197,     0.97297,     0.97397,     0.97497,     0.97598,     0.97698,     0.97798,     0.97898,     0.97998,     0.98098,     0.98198,     0.98298,     0.98398,\n",
            "           0.98498,     0.98599,     0.98699,     0.98799,     0.98899,     0.98999,     0.99099,     0.99199,     0.99299,     0.99399,     0.99499,       0.996,       0.997,       0.998,       0.999,           1]), array([[          1,           1,           1, ...,     0.91667,     0.91667,           0],\n",
            "       [          1,           1,           1, ...,     0.85714,     0.85714,           0],\n",
            "       [          1,           1,           1, ...,     0.98246,     0.98246,           0]]), 'Recall', 'Precision'], [array([          0,    0.001001,    0.002002,    0.003003,    0.004004,    0.005005,    0.006006,    0.007007,    0.008008,    0.009009,     0.01001,    0.011011,    0.012012,    0.013013,    0.014014,    0.015015,    0.016016,    0.017017,    0.018018,    0.019019,     0.02002,    0.021021,    0.022022,    0.023023,\n",
            "          0.024024,    0.025025,    0.026026,    0.027027,    0.028028,    0.029029,     0.03003,    0.031031,    0.032032,    0.033033,    0.034034,    0.035035,    0.036036,    0.037037,    0.038038,    0.039039,     0.04004,    0.041041,    0.042042,    0.043043,    0.044044,    0.045045,    0.046046,    0.047047,\n",
            "          0.048048,    0.049049,     0.05005,    0.051051,    0.052052,    0.053053,    0.054054,    0.055055,    0.056056,    0.057057,    0.058058,    0.059059,     0.06006,    0.061061,    0.062062,    0.063063,    0.064064,    0.065065,    0.066066,    0.067067,    0.068068,    0.069069,     0.07007,    0.071071,\n",
            "          0.072072,    0.073073,    0.074074,    0.075075,    0.076076,    0.077077,    0.078078,    0.079079,     0.08008,    0.081081,    0.082082,    0.083083,    0.084084,    0.085085,    0.086086,    0.087087,    0.088088,    0.089089,     0.09009,    0.091091,    0.092092,    0.093093,    0.094094,    0.095095,\n",
            "          0.096096,    0.097097,    0.098098,    0.099099,      0.1001,      0.1011,      0.1021,      0.1031,      0.1041,     0.10511,     0.10611,     0.10711,     0.10811,     0.10911,     0.11011,     0.11111,     0.11211,     0.11311,     0.11411,     0.11512,     0.11612,     0.11712,     0.11812,     0.11912,\n",
            "           0.12012,     0.12112,     0.12212,     0.12312,     0.12412,     0.12513,     0.12613,     0.12713,     0.12813,     0.12913,     0.13013,     0.13113,     0.13213,     0.13313,     0.13413,     0.13514,     0.13614,     0.13714,     0.13814,     0.13914,     0.14014,     0.14114,     0.14214,     0.14314,\n",
            "           0.14414,     0.14515,     0.14615,     0.14715,     0.14815,     0.14915,     0.15015,     0.15115,     0.15215,     0.15315,     0.15415,     0.15516,     0.15616,     0.15716,     0.15816,     0.15916,     0.16016,     0.16116,     0.16216,     0.16316,     0.16416,     0.16517,     0.16617,     0.16717,\n",
            "           0.16817,     0.16917,     0.17017,     0.17117,     0.17217,     0.17317,     0.17417,     0.17518,     0.17618,     0.17718,     0.17818,     0.17918,     0.18018,     0.18118,     0.18218,     0.18318,     0.18418,     0.18519,     0.18619,     0.18719,     0.18819,     0.18919,     0.19019,     0.19119,\n",
            "           0.19219,     0.19319,     0.19419,      0.1952,      0.1962,      0.1972,      0.1982,      0.1992,      0.2002,      0.2012,      0.2022,      0.2032,      0.2042,     0.20521,     0.20621,     0.20721,     0.20821,     0.20921,     0.21021,     0.21121,     0.21221,     0.21321,     0.21421,     0.21522,\n",
            "           0.21622,     0.21722,     0.21822,     0.21922,     0.22022,     0.22122,     0.22222,     0.22322,     0.22422,     0.22523,     0.22623,     0.22723,     0.22823,     0.22923,     0.23023,     0.23123,     0.23223,     0.23323,     0.23423,     0.23524,     0.23624,     0.23724,     0.23824,     0.23924,\n",
            "           0.24024,     0.24124,     0.24224,     0.24324,     0.24424,     0.24525,     0.24625,     0.24725,     0.24825,     0.24925,     0.25025,     0.25125,     0.25225,     0.25325,     0.25425,     0.25526,     0.25626,     0.25726,     0.25826,     0.25926,     0.26026,     0.26126,     0.26226,     0.26326,\n",
            "           0.26426,     0.26527,     0.26627,     0.26727,     0.26827,     0.26927,     0.27027,     0.27127,     0.27227,     0.27327,     0.27427,     0.27528,     0.27628,     0.27728,     0.27828,     0.27928,     0.28028,     0.28128,     0.28228,     0.28328,     0.28428,     0.28529,     0.28629,     0.28729,\n",
            "           0.28829,     0.28929,     0.29029,     0.29129,     0.29229,     0.29329,     0.29429,      0.2953,      0.2963,      0.2973,      0.2983,      0.2993,      0.3003,      0.3013,      0.3023,      0.3033,      0.3043,     0.30531,     0.30631,     0.30731,     0.30831,     0.30931,     0.31031,     0.31131,\n",
            "           0.31231,     0.31331,     0.31431,     0.31532,     0.31632,     0.31732,     0.31832,     0.31932,     0.32032,     0.32132,     0.32232,     0.32332,     0.32432,     0.32533,     0.32633,     0.32733,     0.32833,     0.32933,     0.33033,     0.33133,     0.33233,     0.33333,     0.33433,     0.33534,\n",
            "           0.33634,     0.33734,     0.33834,     0.33934,     0.34034,     0.34134,     0.34234,     0.34334,     0.34434,     0.34535,     0.34635,     0.34735,     0.34835,     0.34935,     0.35035,     0.35135,     0.35235,     0.35335,     0.35435,     0.35536,     0.35636,     0.35736,     0.35836,     0.35936,\n",
            "           0.36036,     0.36136,     0.36236,     0.36336,     0.36436,     0.36537,     0.36637,     0.36737,     0.36837,     0.36937,     0.37037,     0.37137,     0.37237,     0.37337,     0.37437,     0.37538,     0.37638,     0.37738,     0.37838,     0.37938,     0.38038,     0.38138,     0.38238,     0.38338,\n",
            "           0.38438,     0.38539,     0.38639,     0.38739,     0.38839,     0.38939,     0.39039,     0.39139,     0.39239,     0.39339,     0.39439,      0.3954,      0.3964,      0.3974,      0.3984,      0.3994,      0.4004,      0.4014,      0.4024,      0.4034,      0.4044,     0.40541,     0.40641,     0.40741,\n",
            "           0.40841,     0.40941,     0.41041,     0.41141,     0.41241,     0.41341,     0.41441,     0.41542,     0.41642,     0.41742,     0.41842,     0.41942,     0.42042,     0.42142,     0.42242,     0.42342,     0.42442,     0.42543,     0.42643,     0.42743,     0.42843,     0.42943,     0.43043,     0.43143,\n",
            "           0.43243,     0.43343,     0.43443,     0.43544,     0.43644,     0.43744,     0.43844,     0.43944,     0.44044,     0.44144,     0.44244,     0.44344,     0.44444,     0.44545,     0.44645,     0.44745,     0.44845,     0.44945,     0.45045,     0.45145,     0.45245,     0.45345,     0.45445,     0.45546,\n",
            "           0.45646,     0.45746,     0.45846,     0.45946,     0.46046,     0.46146,     0.46246,     0.46346,     0.46446,     0.46547,     0.46647,     0.46747,     0.46847,     0.46947,     0.47047,     0.47147,     0.47247,     0.47347,     0.47447,     0.47548,     0.47648,     0.47748,     0.47848,     0.47948,\n",
            "           0.48048,     0.48148,     0.48248,     0.48348,     0.48448,     0.48549,     0.48649,     0.48749,     0.48849,     0.48949,     0.49049,     0.49149,     0.49249,     0.49349,     0.49449,      0.4955,      0.4965,      0.4975,      0.4985,      0.4995,      0.5005,      0.5015,      0.5025,      0.5035,\n",
            "            0.5045,     0.50551,     0.50651,     0.50751,     0.50851,     0.50951,     0.51051,     0.51151,     0.51251,     0.51351,     0.51451,     0.51552,     0.51652,     0.51752,     0.51852,     0.51952,     0.52052,     0.52152,     0.52252,     0.52352,     0.52452,     0.52553,     0.52653,     0.52753,\n",
            "           0.52853,     0.52953,     0.53053,     0.53153,     0.53253,     0.53353,     0.53453,     0.53554,     0.53654,     0.53754,     0.53854,     0.53954,     0.54054,     0.54154,     0.54254,     0.54354,     0.54454,     0.54555,     0.54655,     0.54755,     0.54855,     0.54955,     0.55055,     0.55155,\n",
            "           0.55255,     0.55355,     0.55455,     0.55556,     0.55656,     0.55756,     0.55856,     0.55956,     0.56056,     0.56156,     0.56256,     0.56356,     0.56456,     0.56557,     0.56657,     0.56757,     0.56857,     0.56957,     0.57057,     0.57157,     0.57257,     0.57357,     0.57457,     0.57558,\n",
            "           0.57658,     0.57758,     0.57858,     0.57958,     0.58058,     0.58158,     0.58258,     0.58358,     0.58458,     0.58559,     0.58659,     0.58759,     0.58859,     0.58959,     0.59059,     0.59159,     0.59259,     0.59359,     0.59459,      0.5956,      0.5966,      0.5976,      0.5986,      0.5996,\n",
            "            0.6006,      0.6016,      0.6026,      0.6036,      0.6046,     0.60561,     0.60661,     0.60761,     0.60861,     0.60961,     0.61061,     0.61161,     0.61261,     0.61361,     0.61461,     0.61562,     0.61662,     0.61762,     0.61862,     0.61962,     0.62062,     0.62162,     0.62262,     0.62362,\n",
            "           0.62462,     0.62563,     0.62663,     0.62763,     0.62863,     0.62963,     0.63063,     0.63163,     0.63263,     0.63363,     0.63463,     0.63564,     0.63664,     0.63764,     0.63864,     0.63964,     0.64064,     0.64164,     0.64264,     0.64364,     0.64464,     0.64565,     0.64665,     0.64765,\n",
            "           0.64865,     0.64965,     0.65065,     0.65165,     0.65265,     0.65365,     0.65465,     0.65566,     0.65666,     0.65766,     0.65866,     0.65966,     0.66066,     0.66166,     0.66266,     0.66366,     0.66466,     0.66567,     0.66667,     0.66767,     0.66867,     0.66967,     0.67067,     0.67167,\n",
            "           0.67267,     0.67367,     0.67467,     0.67568,     0.67668,     0.67768,     0.67868,     0.67968,     0.68068,     0.68168,     0.68268,     0.68368,     0.68468,     0.68569,     0.68669,     0.68769,     0.68869,     0.68969,     0.69069,     0.69169,     0.69269,     0.69369,     0.69469,      0.6957,\n",
            "            0.6967,      0.6977,      0.6987,      0.6997,      0.7007,      0.7017,      0.7027,      0.7037,      0.7047,     0.70571,     0.70671,     0.70771,     0.70871,     0.70971,     0.71071,     0.71171,     0.71271,     0.71371,     0.71471,     0.71572,     0.71672,     0.71772,     0.71872,     0.71972,\n",
            "           0.72072,     0.72172,     0.72272,     0.72372,     0.72472,     0.72573,     0.72673,     0.72773,     0.72873,     0.72973,     0.73073,     0.73173,     0.73273,     0.73373,     0.73473,     0.73574,     0.73674,     0.73774,     0.73874,     0.73974,     0.74074,     0.74174,     0.74274,     0.74374,\n",
            "           0.74474,     0.74575,     0.74675,     0.74775,     0.74875,     0.74975,     0.75075,     0.75175,     0.75275,     0.75375,     0.75475,     0.75576,     0.75676,     0.75776,     0.75876,     0.75976,     0.76076,     0.76176,     0.76276,     0.76376,     0.76476,     0.76577,     0.76677,     0.76777,\n",
            "           0.76877,     0.76977,     0.77077,     0.77177,     0.77277,     0.77377,     0.77477,     0.77578,     0.77678,     0.77778,     0.77878,     0.77978,     0.78078,     0.78178,     0.78278,     0.78378,     0.78478,     0.78579,     0.78679,     0.78779,     0.78879,     0.78979,     0.79079,     0.79179,\n",
            "           0.79279,     0.79379,     0.79479,      0.7958,      0.7968,      0.7978,      0.7988,      0.7998,      0.8008,      0.8018,      0.8028,      0.8038,      0.8048,     0.80581,     0.80681,     0.80781,     0.80881,     0.80981,     0.81081,     0.81181,     0.81281,     0.81381,     0.81481,     0.81582,\n",
            "           0.81682,     0.81782,     0.81882,     0.81982,     0.82082,     0.82182,     0.82282,     0.82382,     0.82482,     0.82583,     0.82683,     0.82783,     0.82883,     0.82983,     0.83083,     0.83183,     0.83283,     0.83383,     0.83483,     0.83584,     0.83684,     0.83784,     0.83884,     0.83984,\n",
            "           0.84084,     0.84184,     0.84284,     0.84384,     0.84484,     0.84585,     0.84685,     0.84785,     0.84885,     0.84985,     0.85085,     0.85185,     0.85285,     0.85385,     0.85485,     0.85586,     0.85686,     0.85786,     0.85886,     0.85986,     0.86086,     0.86186,     0.86286,     0.86386,\n",
            "           0.86486,     0.86587,     0.86687,     0.86787,     0.86887,     0.86987,     0.87087,     0.87187,     0.87287,     0.87387,     0.87487,     0.87588,     0.87688,     0.87788,     0.87888,     0.87988,     0.88088,     0.88188,     0.88288,     0.88388,     0.88488,     0.88589,     0.88689,     0.88789,\n",
            "           0.88889,     0.88989,     0.89089,     0.89189,     0.89289,     0.89389,     0.89489,      0.8959,      0.8969,      0.8979,      0.8989,      0.8999,      0.9009,      0.9019,      0.9029,      0.9039,      0.9049,     0.90591,     0.90691,     0.90791,     0.90891,     0.90991,     0.91091,     0.91191,\n",
            "           0.91291,     0.91391,     0.91491,     0.91592,     0.91692,     0.91792,     0.91892,     0.91992,     0.92092,     0.92192,     0.92292,     0.92392,     0.92492,     0.92593,     0.92693,     0.92793,     0.92893,     0.92993,     0.93093,     0.93193,     0.93293,     0.93393,     0.93493,     0.93594,\n",
            "           0.93694,     0.93794,     0.93894,     0.93994,     0.94094,     0.94194,     0.94294,     0.94394,     0.94494,     0.94595,     0.94695,     0.94795,     0.94895,     0.94995,     0.95095,     0.95195,     0.95295,     0.95395,     0.95495,     0.95596,     0.95696,     0.95796,     0.95896,     0.95996,\n",
            "           0.96096,     0.96196,     0.96296,     0.96396,     0.96496,     0.96597,     0.96697,     0.96797,     0.96897,     0.96997,     0.97097,     0.97197,     0.97297,     0.97397,     0.97497,     0.97598,     0.97698,     0.97798,     0.97898,     0.97998,     0.98098,     0.98198,     0.98298,     0.98398,\n",
            "           0.98498,     0.98599,     0.98699,     0.98799,     0.98899,     0.98999,     0.99099,     0.99199,     0.99299,     0.99399,     0.99499,       0.996,       0.997,       0.998,       0.999,           1]), array([[    0.32353,     0.32353,      0.4603, ...,           0,           0,           0],\n",
            "       [    0.32727,     0.32727,     0.52294, ...,           0,           0,           0],\n",
            "       [     0.6474,      0.6474,     0.76631, ...,           0,           0,           0]]), 'Confidence', 'F1'], [array([          0,    0.001001,    0.002002,    0.003003,    0.004004,    0.005005,    0.006006,    0.007007,    0.008008,    0.009009,     0.01001,    0.011011,    0.012012,    0.013013,    0.014014,    0.015015,    0.016016,    0.017017,    0.018018,    0.019019,     0.02002,    0.021021,    0.022022,    0.023023,\n",
            "          0.024024,    0.025025,    0.026026,    0.027027,    0.028028,    0.029029,     0.03003,    0.031031,    0.032032,    0.033033,    0.034034,    0.035035,    0.036036,    0.037037,    0.038038,    0.039039,     0.04004,    0.041041,    0.042042,    0.043043,    0.044044,    0.045045,    0.046046,    0.047047,\n",
            "          0.048048,    0.049049,     0.05005,    0.051051,    0.052052,    0.053053,    0.054054,    0.055055,    0.056056,    0.057057,    0.058058,    0.059059,     0.06006,    0.061061,    0.062062,    0.063063,    0.064064,    0.065065,    0.066066,    0.067067,    0.068068,    0.069069,     0.07007,    0.071071,\n",
            "          0.072072,    0.073073,    0.074074,    0.075075,    0.076076,    0.077077,    0.078078,    0.079079,     0.08008,    0.081081,    0.082082,    0.083083,    0.084084,    0.085085,    0.086086,    0.087087,    0.088088,    0.089089,     0.09009,    0.091091,    0.092092,    0.093093,    0.094094,    0.095095,\n",
            "          0.096096,    0.097097,    0.098098,    0.099099,      0.1001,      0.1011,      0.1021,      0.1031,      0.1041,     0.10511,     0.10611,     0.10711,     0.10811,     0.10911,     0.11011,     0.11111,     0.11211,     0.11311,     0.11411,     0.11512,     0.11612,     0.11712,     0.11812,     0.11912,\n",
            "           0.12012,     0.12112,     0.12212,     0.12312,     0.12412,     0.12513,     0.12613,     0.12713,     0.12813,     0.12913,     0.13013,     0.13113,     0.13213,     0.13313,     0.13413,     0.13514,     0.13614,     0.13714,     0.13814,     0.13914,     0.14014,     0.14114,     0.14214,     0.14314,\n",
            "           0.14414,     0.14515,     0.14615,     0.14715,     0.14815,     0.14915,     0.15015,     0.15115,     0.15215,     0.15315,     0.15415,     0.15516,     0.15616,     0.15716,     0.15816,     0.15916,     0.16016,     0.16116,     0.16216,     0.16316,     0.16416,     0.16517,     0.16617,     0.16717,\n",
            "           0.16817,     0.16917,     0.17017,     0.17117,     0.17217,     0.17317,     0.17417,     0.17518,     0.17618,     0.17718,     0.17818,     0.17918,     0.18018,     0.18118,     0.18218,     0.18318,     0.18418,     0.18519,     0.18619,     0.18719,     0.18819,     0.18919,     0.19019,     0.19119,\n",
            "           0.19219,     0.19319,     0.19419,      0.1952,      0.1962,      0.1972,      0.1982,      0.1992,      0.2002,      0.2012,      0.2022,      0.2032,      0.2042,     0.20521,     0.20621,     0.20721,     0.20821,     0.20921,     0.21021,     0.21121,     0.21221,     0.21321,     0.21421,     0.21522,\n",
            "           0.21622,     0.21722,     0.21822,     0.21922,     0.22022,     0.22122,     0.22222,     0.22322,     0.22422,     0.22523,     0.22623,     0.22723,     0.22823,     0.22923,     0.23023,     0.23123,     0.23223,     0.23323,     0.23423,     0.23524,     0.23624,     0.23724,     0.23824,     0.23924,\n",
            "           0.24024,     0.24124,     0.24224,     0.24324,     0.24424,     0.24525,     0.24625,     0.24725,     0.24825,     0.24925,     0.25025,     0.25125,     0.25225,     0.25325,     0.25425,     0.25526,     0.25626,     0.25726,     0.25826,     0.25926,     0.26026,     0.26126,     0.26226,     0.26326,\n",
            "           0.26426,     0.26527,     0.26627,     0.26727,     0.26827,     0.26927,     0.27027,     0.27127,     0.27227,     0.27327,     0.27427,     0.27528,     0.27628,     0.27728,     0.27828,     0.27928,     0.28028,     0.28128,     0.28228,     0.28328,     0.28428,     0.28529,     0.28629,     0.28729,\n",
            "           0.28829,     0.28929,     0.29029,     0.29129,     0.29229,     0.29329,     0.29429,      0.2953,      0.2963,      0.2973,      0.2983,      0.2993,      0.3003,      0.3013,      0.3023,      0.3033,      0.3043,     0.30531,     0.30631,     0.30731,     0.30831,     0.30931,     0.31031,     0.31131,\n",
            "           0.31231,     0.31331,     0.31431,     0.31532,     0.31632,     0.31732,     0.31832,     0.31932,     0.32032,     0.32132,     0.32232,     0.32332,     0.32432,     0.32533,     0.32633,     0.32733,     0.32833,     0.32933,     0.33033,     0.33133,     0.33233,     0.33333,     0.33433,     0.33534,\n",
            "           0.33634,     0.33734,     0.33834,     0.33934,     0.34034,     0.34134,     0.34234,     0.34334,     0.34434,     0.34535,     0.34635,     0.34735,     0.34835,     0.34935,     0.35035,     0.35135,     0.35235,     0.35335,     0.35435,     0.35536,     0.35636,     0.35736,     0.35836,     0.35936,\n",
            "           0.36036,     0.36136,     0.36236,     0.36336,     0.36436,     0.36537,     0.36637,     0.36737,     0.36837,     0.36937,     0.37037,     0.37137,     0.37237,     0.37337,     0.37437,     0.37538,     0.37638,     0.37738,     0.37838,     0.37938,     0.38038,     0.38138,     0.38238,     0.38338,\n",
            "           0.38438,     0.38539,     0.38639,     0.38739,     0.38839,     0.38939,     0.39039,     0.39139,     0.39239,     0.39339,     0.39439,      0.3954,      0.3964,      0.3974,      0.3984,      0.3994,      0.4004,      0.4014,      0.4024,      0.4034,      0.4044,     0.40541,     0.40641,     0.40741,\n",
            "           0.40841,     0.40941,     0.41041,     0.41141,     0.41241,     0.41341,     0.41441,     0.41542,     0.41642,     0.41742,     0.41842,     0.41942,     0.42042,     0.42142,     0.42242,     0.42342,     0.42442,     0.42543,     0.42643,     0.42743,     0.42843,     0.42943,     0.43043,     0.43143,\n",
            "           0.43243,     0.43343,     0.43443,     0.43544,     0.43644,     0.43744,     0.43844,     0.43944,     0.44044,     0.44144,     0.44244,     0.44344,     0.44444,     0.44545,     0.44645,     0.44745,     0.44845,     0.44945,     0.45045,     0.45145,     0.45245,     0.45345,     0.45445,     0.45546,\n",
            "           0.45646,     0.45746,     0.45846,     0.45946,     0.46046,     0.46146,     0.46246,     0.46346,     0.46446,     0.46547,     0.46647,     0.46747,     0.46847,     0.46947,     0.47047,     0.47147,     0.47247,     0.47347,     0.47447,     0.47548,     0.47648,     0.47748,     0.47848,     0.47948,\n",
            "           0.48048,     0.48148,     0.48248,     0.48348,     0.48448,     0.48549,     0.48649,     0.48749,     0.48849,     0.48949,     0.49049,     0.49149,     0.49249,     0.49349,     0.49449,      0.4955,      0.4965,      0.4975,      0.4985,      0.4995,      0.5005,      0.5015,      0.5025,      0.5035,\n",
            "            0.5045,     0.50551,     0.50651,     0.50751,     0.50851,     0.50951,     0.51051,     0.51151,     0.51251,     0.51351,     0.51451,     0.51552,     0.51652,     0.51752,     0.51852,     0.51952,     0.52052,     0.52152,     0.52252,     0.52352,     0.52452,     0.52553,     0.52653,     0.52753,\n",
            "           0.52853,     0.52953,     0.53053,     0.53153,     0.53253,     0.53353,     0.53453,     0.53554,     0.53654,     0.53754,     0.53854,     0.53954,     0.54054,     0.54154,     0.54254,     0.54354,     0.54454,     0.54555,     0.54655,     0.54755,     0.54855,     0.54955,     0.55055,     0.55155,\n",
            "           0.55255,     0.55355,     0.55455,     0.55556,     0.55656,     0.55756,     0.55856,     0.55956,     0.56056,     0.56156,     0.56256,     0.56356,     0.56456,     0.56557,     0.56657,     0.56757,     0.56857,     0.56957,     0.57057,     0.57157,     0.57257,     0.57357,     0.57457,     0.57558,\n",
            "           0.57658,     0.57758,     0.57858,     0.57958,     0.58058,     0.58158,     0.58258,     0.58358,     0.58458,     0.58559,     0.58659,     0.58759,     0.58859,     0.58959,     0.59059,     0.59159,     0.59259,     0.59359,     0.59459,      0.5956,      0.5966,      0.5976,      0.5986,      0.5996,\n",
            "            0.6006,      0.6016,      0.6026,      0.6036,      0.6046,     0.60561,     0.60661,     0.60761,     0.60861,     0.60961,     0.61061,     0.61161,     0.61261,     0.61361,     0.61461,     0.61562,     0.61662,     0.61762,     0.61862,     0.61962,     0.62062,     0.62162,     0.62262,     0.62362,\n",
            "           0.62462,     0.62563,     0.62663,     0.62763,     0.62863,     0.62963,     0.63063,     0.63163,     0.63263,     0.63363,     0.63463,     0.63564,     0.63664,     0.63764,     0.63864,     0.63964,     0.64064,     0.64164,     0.64264,     0.64364,     0.64464,     0.64565,     0.64665,     0.64765,\n",
            "           0.64865,     0.64965,     0.65065,     0.65165,     0.65265,     0.65365,     0.65465,     0.65566,     0.65666,     0.65766,     0.65866,     0.65966,     0.66066,     0.66166,     0.66266,     0.66366,     0.66466,     0.66567,     0.66667,     0.66767,     0.66867,     0.66967,     0.67067,     0.67167,\n",
            "           0.67267,     0.67367,     0.67467,     0.67568,     0.67668,     0.67768,     0.67868,     0.67968,     0.68068,     0.68168,     0.68268,     0.68368,     0.68468,     0.68569,     0.68669,     0.68769,     0.68869,     0.68969,     0.69069,     0.69169,     0.69269,     0.69369,     0.69469,      0.6957,\n",
            "            0.6967,      0.6977,      0.6987,      0.6997,      0.7007,      0.7017,      0.7027,      0.7037,      0.7047,     0.70571,     0.70671,     0.70771,     0.70871,     0.70971,     0.71071,     0.71171,     0.71271,     0.71371,     0.71471,     0.71572,     0.71672,     0.71772,     0.71872,     0.71972,\n",
            "           0.72072,     0.72172,     0.72272,     0.72372,     0.72472,     0.72573,     0.72673,     0.72773,     0.72873,     0.72973,     0.73073,     0.73173,     0.73273,     0.73373,     0.73473,     0.73574,     0.73674,     0.73774,     0.73874,     0.73974,     0.74074,     0.74174,     0.74274,     0.74374,\n",
            "           0.74474,     0.74575,     0.74675,     0.74775,     0.74875,     0.74975,     0.75075,     0.75175,     0.75275,     0.75375,     0.75475,     0.75576,     0.75676,     0.75776,     0.75876,     0.75976,     0.76076,     0.76176,     0.76276,     0.76376,     0.76476,     0.76577,     0.76677,     0.76777,\n",
            "           0.76877,     0.76977,     0.77077,     0.77177,     0.77277,     0.77377,     0.77477,     0.77578,     0.77678,     0.77778,     0.77878,     0.77978,     0.78078,     0.78178,     0.78278,     0.78378,     0.78478,     0.78579,     0.78679,     0.78779,     0.78879,     0.78979,     0.79079,     0.79179,\n",
            "           0.79279,     0.79379,     0.79479,      0.7958,      0.7968,      0.7978,      0.7988,      0.7998,      0.8008,      0.8018,      0.8028,      0.8038,      0.8048,     0.80581,     0.80681,     0.80781,     0.80881,     0.80981,     0.81081,     0.81181,     0.81281,     0.81381,     0.81481,     0.81582,\n",
            "           0.81682,     0.81782,     0.81882,     0.81982,     0.82082,     0.82182,     0.82282,     0.82382,     0.82482,     0.82583,     0.82683,     0.82783,     0.82883,     0.82983,     0.83083,     0.83183,     0.83283,     0.83383,     0.83483,     0.83584,     0.83684,     0.83784,     0.83884,     0.83984,\n",
            "           0.84084,     0.84184,     0.84284,     0.84384,     0.84484,     0.84585,     0.84685,     0.84785,     0.84885,     0.84985,     0.85085,     0.85185,     0.85285,     0.85385,     0.85485,     0.85586,     0.85686,     0.85786,     0.85886,     0.85986,     0.86086,     0.86186,     0.86286,     0.86386,\n",
            "           0.86486,     0.86587,     0.86687,     0.86787,     0.86887,     0.86987,     0.87087,     0.87187,     0.87287,     0.87387,     0.87487,     0.87588,     0.87688,     0.87788,     0.87888,     0.87988,     0.88088,     0.88188,     0.88288,     0.88388,     0.88488,     0.88589,     0.88689,     0.88789,\n",
            "           0.88889,     0.88989,     0.89089,     0.89189,     0.89289,     0.89389,     0.89489,      0.8959,      0.8969,      0.8979,      0.8989,      0.8999,      0.9009,      0.9019,      0.9029,      0.9039,      0.9049,     0.90591,     0.90691,     0.90791,     0.90891,     0.90991,     0.91091,     0.91191,\n",
            "           0.91291,     0.91391,     0.91491,     0.91592,     0.91692,     0.91792,     0.91892,     0.91992,     0.92092,     0.92192,     0.92292,     0.92392,     0.92492,     0.92593,     0.92693,     0.92793,     0.92893,     0.92993,     0.93093,     0.93193,     0.93293,     0.93393,     0.93493,     0.93594,\n",
            "           0.93694,     0.93794,     0.93894,     0.93994,     0.94094,     0.94194,     0.94294,     0.94394,     0.94494,     0.94595,     0.94695,     0.94795,     0.94895,     0.94995,     0.95095,     0.95195,     0.95295,     0.95395,     0.95495,     0.95596,     0.95696,     0.95796,     0.95896,     0.95996,\n",
            "           0.96096,     0.96196,     0.96296,     0.96396,     0.96496,     0.96597,     0.96697,     0.96797,     0.96897,     0.96997,     0.97097,     0.97197,     0.97297,     0.97397,     0.97497,     0.97598,     0.97698,     0.97798,     0.97898,     0.97998,     0.98098,     0.98198,     0.98298,     0.98398,\n",
            "           0.98498,     0.98599,     0.98699,     0.98799,     0.98899,     0.98999,     0.99099,     0.99199,     0.99299,     0.99399,     0.99499,       0.996,       0.997,       0.998,       0.999,           1]), array([[    0.19298,     0.19298,     0.29896, ...,           1,           1,           1],\n",
            "       [    0.19565,     0.19565,     0.35404, ...,           1,           1,           1],\n",
            "       [    0.47863,     0.47863,     0.62115, ...,           1,           1,           1]]), 'Confidence', 'Precision'], [array([          0,    0.001001,    0.002002,    0.003003,    0.004004,    0.005005,    0.006006,    0.007007,    0.008008,    0.009009,     0.01001,    0.011011,    0.012012,    0.013013,    0.014014,    0.015015,    0.016016,    0.017017,    0.018018,    0.019019,     0.02002,    0.021021,    0.022022,    0.023023,\n",
            "          0.024024,    0.025025,    0.026026,    0.027027,    0.028028,    0.029029,     0.03003,    0.031031,    0.032032,    0.033033,    0.034034,    0.035035,    0.036036,    0.037037,    0.038038,    0.039039,     0.04004,    0.041041,    0.042042,    0.043043,    0.044044,    0.045045,    0.046046,    0.047047,\n",
            "          0.048048,    0.049049,     0.05005,    0.051051,    0.052052,    0.053053,    0.054054,    0.055055,    0.056056,    0.057057,    0.058058,    0.059059,     0.06006,    0.061061,    0.062062,    0.063063,    0.064064,    0.065065,    0.066066,    0.067067,    0.068068,    0.069069,     0.07007,    0.071071,\n",
            "          0.072072,    0.073073,    0.074074,    0.075075,    0.076076,    0.077077,    0.078078,    0.079079,     0.08008,    0.081081,    0.082082,    0.083083,    0.084084,    0.085085,    0.086086,    0.087087,    0.088088,    0.089089,     0.09009,    0.091091,    0.092092,    0.093093,    0.094094,    0.095095,\n",
            "          0.096096,    0.097097,    0.098098,    0.099099,      0.1001,      0.1011,      0.1021,      0.1031,      0.1041,     0.10511,     0.10611,     0.10711,     0.10811,     0.10911,     0.11011,     0.11111,     0.11211,     0.11311,     0.11411,     0.11512,     0.11612,     0.11712,     0.11812,     0.11912,\n",
            "           0.12012,     0.12112,     0.12212,     0.12312,     0.12412,     0.12513,     0.12613,     0.12713,     0.12813,     0.12913,     0.13013,     0.13113,     0.13213,     0.13313,     0.13413,     0.13514,     0.13614,     0.13714,     0.13814,     0.13914,     0.14014,     0.14114,     0.14214,     0.14314,\n",
            "           0.14414,     0.14515,     0.14615,     0.14715,     0.14815,     0.14915,     0.15015,     0.15115,     0.15215,     0.15315,     0.15415,     0.15516,     0.15616,     0.15716,     0.15816,     0.15916,     0.16016,     0.16116,     0.16216,     0.16316,     0.16416,     0.16517,     0.16617,     0.16717,\n",
            "           0.16817,     0.16917,     0.17017,     0.17117,     0.17217,     0.17317,     0.17417,     0.17518,     0.17618,     0.17718,     0.17818,     0.17918,     0.18018,     0.18118,     0.18218,     0.18318,     0.18418,     0.18519,     0.18619,     0.18719,     0.18819,     0.18919,     0.19019,     0.19119,\n",
            "           0.19219,     0.19319,     0.19419,      0.1952,      0.1962,      0.1972,      0.1982,      0.1992,      0.2002,      0.2012,      0.2022,      0.2032,      0.2042,     0.20521,     0.20621,     0.20721,     0.20821,     0.20921,     0.21021,     0.21121,     0.21221,     0.21321,     0.21421,     0.21522,\n",
            "           0.21622,     0.21722,     0.21822,     0.21922,     0.22022,     0.22122,     0.22222,     0.22322,     0.22422,     0.22523,     0.22623,     0.22723,     0.22823,     0.22923,     0.23023,     0.23123,     0.23223,     0.23323,     0.23423,     0.23524,     0.23624,     0.23724,     0.23824,     0.23924,\n",
            "           0.24024,     0.24124,     0.24224,     0.24324,     0.24424,     0.24525,     0.24625,     0.24725,     0.24825,     0.24925,     0.25025,     0.25125,     0.25225,     0.25325,     0.25425,     0.25526,     0.25626,     0.25726,     0.25826,     0.25926,     0.26026,     0.26126,     0.26226,     0.26326,\n",
            "           0.26426,     0.26527,     0.26627,     0.26727,     0.26827,     0.26927,     0.27027,     0.27127,     0.27227,     0.27327,     0.27427,     0.27528,     0.27628,     0.27728,     0.27828,     0.27928,     0.28028,     0.28128,     0.28228,     0.28328,     0.28428,     0.28529,     0.28629,     0.28729,\n",
            "           0.28829,     0.28929,     0.29029,     0.29129,     0.29229,     0.29329,     0.29429,      0.2953,      0.2963,      0.2973,      0.2983,      0.2993,      0.3003,      0.3013,      0.3023,      0.3033,      0.3043,     0.30531,     0.30631,     0.30731,     0.30831,     0.30931,     0.31031,     0.31131,\n",
            "           0.31231,     0.31331,     0.31431,     0.31532,     0.31632,     0.31732,     0.31832,     0.31932,     0.32032,     0.32132,     0.32232,     0.32332,     0.32432,     0.32533,     0.32633,     0.32733,     0.32833,     0.32933,     0.33033,     0.33133,     0.33233,     0.33333,     0.33433,     0.33534,\n",
            "           0.33634,     0.33734,     0.33834,     0.33934,     0.34034,     0.34134,     0.34234,     0.34334,     0.34434,     0.34535,     0.34635,     0.34735,     0.34835,     0.34935,     0.35035,     0.35135,     0.35235,     0.35335,     0.35435,     0.35536,     0.35636,     0.35736,     0.35836,     0.35936,\n",
            "           0.36036,     0.36136,     0.36236,     0.36336,     0.36436,     0.36537,     0.36637,     0.36737,     0.36837,     0.36937,     0.37037,     0.37137,     0.37237,     0.37337,     0.37437,     0.37538,     0.37638,     0.37738,     0.37838,     0.37938,     0.38038,     0.38138,     0.38238,     0.38338,\n",
            "           0.38438,     0.38539,     0.38639,     0.38739,     0.38839,     0.38939,     0.39039,     0.39139,     0.39239,     0.39339,     0.39439,      0.3954,      0.3964,      0.3974,      0.3984,      0.3994,      0.4004,      0.4014,      0.4024,      0.4034,      0.4044,     0.40541,     0.40641,     0.40741,\n",
            "           0.40841,     0.40941,     0.41041,     0.41141,     0.41241,     0.41341,     0.41441,     0.41542,     0.41642,     0.41742,     0.41842,     0.41942,     0.42042,     0.42142,     0.42242,     0.42342,     0.42442,     0.42543,     0.42643,     0.42743,     0.42843,     0.42943,     0.43043,     0.43143,\n",
            "           0.43243,     0.43343,     0.43443,     0.43544,     0.43644,     0.43744,     0.43844,     0.43944,     0.44044,     0.44144,     0.44244,     0.44344,     0.44444,     0.44545,     0.44645,     0.44745,     0.44845,     0.44945,     0.45045,     0.45145,     0.45245,     0.45345,     0.45445,     0.45546,\n",
            "           0.45646,     0.45746,     0.45846,     0.45946,     0.46046,     0.46146,     0.46246,     0.46346,     0.46446,     0.46547,     0.46647,     0.46747,     0.46847,     0.46947,     0.47047,     0.47147,     0.47247,     0.47347,     0.47447,     0.47548,     0.47648,     0.47748,     0.47848,     0.47948,\n",
            "           0.48048,     0.48148,     0.48248,     0.48348,     0.48448,     0.48549,     0.48649,     0.48749,     0.48849,     0.48949,     0.49049,     0.49149,     0.49249,     0.49349,     0.49449,      0.4955,      0.4965,      0.4975,      0.4985,      0.4995,      0.5005,      0.5015,      0.5025,      0.5035,\n",
            "            0.5045,     0.50551,     0.50651,     0.50751,     0.50851,     0.50951,     0.51051,     0.51151,     0.51251,     0.51351,     0.51451,     0.51552,     0.51652,     0.51752,     0.51852,     0.51952,     0.52052,     0.52152,     0.52252,     0.52352,     0.52452,     0.52553,     0.52653,     0.52753,\n",
            "           0.52853,     0.52953,     0.53053,     0.53153,     0.53253,     0.53353,     0.53453,     0.53554,     0.53654,     0.53754,     0.53854,     0.53954,     0.54054,     0.54154,     0.54254,     0.54354,     0.54454,     0.54555,     0.54655,     0.54755,     0.54855,     0.54955,     0.55055,     0.55155,\n",
            "           0.55255,     0.55355,     0.55455,     0.55556,     0.55656,     0.55756,     0.55856,     0.55956,     0.56056,     0.56156,     0.56256,     0.56356,     0.56456,     0.56557,     0.56657,     0.56757,     0.56857,     0.56957,     0.57057,     0.57157,     0.57257,     0.57357,     0.57457,     0.57558,\n",
            "           0.57658,     0.57758,     0.57858,     0.57958,     0.58058,     0.58158,     0.58258,     0.58358,     0.58458,     0.58559,     0.58659,     0.58759,     0.58859,     0.58959,     0.59059,     0.59159,     0.59259,     0.59359,     0.59459,      0.5956,      0.5966,      0.5976,      0.5986,      0.5996,\n",
            "            0.6006,      0.6016,      0.6026,      0.6036,      0.6046,     0.60561,     0.60661,     0.60761,     0.60861,     0.60961,     0.61061,     0.61161,     0.61261,     0.61361,     0.61461,     0.61562,     0.61662,     0.61762,     0.61862,     0.61962,     0.62062,     0.62162,     0.62262,     0.62362,\n",
            "           0.62462,     0.62563,     0.62663,     0.62763,     0.62863,     0.62963,     0.63063,     0.63163,     0.63263,     0.63363,     0.63463,     0.63564,     0.63664,     0.63764,     0.63864,     0.63964,     0.64064,     0.64164,     0.64264,     0.64364,     0.64464,     0.64565,     0.64665,     0.64765,\n",
            "           0.64865,     0.64965,     0.65065,     0.65165,     0.65265,     0.65365,     0.65465,     0.65566,     0.65666,     0.65766,     0.65866,     0.65966,     0.66066,     0.66166,     0.66266,     0.66366,     0.66466,     0.66567,     0.66667,     0.66767,     0.66867,     0.66967,     0.67067,     0.67167,\n",
            "           0.67267,     0.67367,     0.67467,     0.67568,     0.67668,     0.67768,     0.67868,     0.67968,     0.68068,     0.68168,     0.68268,     0.68368,     0.68468,     0.68569,     0.68669,     0.68769,     0.68869,     0.68969,     0.69069,     0.69169,     0.69269,     0.69369,     0.69469,      0.6957,\n",
            "            0.6967,      0.6977,      0.6987,      0.6997,      0.7007,      0.7017,      0.7027,      0.7037,      0.7047,     0.70571,     0.70671,     0.70771,     0.70871,     0.70971,     0.71071,     0.71171,     0.71271,     0.71371,     0.71471,     0.71572,     0.71672,     0.71772,     0.71872,     0.71972,\n",
            "           0.72072,     0.72172,     0.72272,     0.72372,     0.72472,     0.72573,     0.72673,     0.72773,     0.72873,     0.72973,     0.73073,     0.73173,     0.73273,     0.73373,     0.73473,     0.73574,     0.73674,     0.73774,     0.73874,     0.73974,     0.74074,     0.74174,     0.74274,     0.74374,\n",
            "           0.74474,     0.74575,     0.74675,     0.74775,     0.74875,     0.74975,     0.75075,     0.75175,     0.75275,     0.75375,     0.75475,     0.75576,     0.75676,     0.75776,     0.75876,     0.75976,     0.76076,     0.76176,     0.76276,     0.76376,     0.76476,     0.76577,     0.76677,     0.76777,\n",
            "           0.76877,     0.76977,     0.77077,     0.77177,     0.77277,     0.77377,     0.77477,     0.77578,     0.77678,     0.77778,     0.77878,     0.77978,     0.78078,     0.78178,     0.78278,     0.78378,     0.78478,     0.78579,     0.78679,     0.78779,     0.78879,     0.78979,     0.79079,     0.79179,\n",
            "           0.79279,     0.79379,     0.79479,      0.7958,      0.7968,      0.7978,      0.7988,      0.7998,      0.8008,      0.8018,      0.8028,      0.8038,      0.8048,     0.80581,     0.80681,     0.80781,     0.80881,     0.80981,     0.81081,     0.81181,     0.81281,     0.81381,     0.81481,     0.81582,\n",
            "           0.81682,     0.81782,     0.81882,     0.81982,     0.82082,     0.82182,     0.82282,     0.82382,     0.82482,     0.82583,     0.82683,     0.82783,     0.82883,     0.82983,     0.83083,     0.83183,     0.83283,     0.83383,     0.83483,     0.83584,     0.83684,     0.83784,     0.83884,     0.83984,\n",
            "           0.84084,     0.84184,     0.84284,     0.84384,     0.84484,     0.84585,     0.84685,     0.84785,     0.84885,     0.84985,     0.85085,     0.85185,     0.85285,     0.85385,     0.85485,     0.85586,     0.85686,     0.85786,     0.85886,     0.85986,     0.86086,     0.86186,     0.86286,     0.86386,\n",
            "           0.86486,     0.86587,     0.86687,     0.86787,     0.86887,     0.86987,     0.87087,     0.87187,     0.87287,     0.87387,     0.87487,     0.87588,     0.87688,     0.87788,     0.87888,     0.87988,     0.88088,     0.88188,     0.88288,     0.88388,     0.88488,     0.88589,     0.88689,     0.88789,\n",
            "           0.88889,     0.88989,     0.89089,     0.89189,     0.89289,     0.89389,     0.89489,      0.8959,      0.8969,      0.8979,      0.8989,      0.8999,      0.9009,      0.9019,      0.9029,      0.9039,      0.9049,     0.90591,     0.90691,     0.90791,     0.90891,     0.90991,     0.91091,     0.91191,\n",
            "           0.91291,     0.91391,     0.91491,     0.91592,     0.91692,     0.91792,     0.91892,     0.91992,     0.92092,     0.92192,     0.92292,     0.92392,     0.92492,     0.92593,     0.92693,     0.92793,     0.92893,     0.92993,     0.93093,     0.93193,     0.93293,     0.93393,     0.93493,     0.93594,\n",
            "           0.93694,     0.93794,     0.93894,     0.93994,     0.94094,     0.94194,     0.94294,     0.94394,     0.94494,     0.94595,     0.94695,     0.94795,     0.94895,     0.94995,     0.95095,     0.95195,     0.95295,     0.95395,     0.95495,     0.95596,     0.95696,     0.95796,     0.95896,     0.95996,\n",
            "           0.96096,     0.96196,     0.96296,     0.96396,     0.96496,     0.96597,     0.96697,     0.96797,     0.96897,     0.96997,     0.97097,     0.97197,     0.97297,     0.97397,     0.97497,     0.97598,     0.97698,     0.97798,     0.97898,     0.97998,     0.98098,     0.98198,     0.98298,     0.98398,\n",
            "           0.98498,     0.98599,     0.98699,     0.98799,     0.98899,     0.98999,     0.99099,     0.99199,     0.99299,     0.99399,     0.99499,       0.996,       0.997,       0.998,       0.999,           1]), array([[          1,           1,           1, ...,           0,           0,           0],\n",
            "       [          1,           1,           1, ...,           0,           0,           0],\n",
            "       [          1,           1,           1, ...,           0,           0,           0]]), 'Confidence', 'Recall']]\n",
            "fitness: 0.869584668168116\n",
            "keys: ['metrics/precision(B)', 'metrics/recall(B)', 'metrics/mAP50(B)', 'metrics/mAP50-95(B)']\n",
            "maps: array([    0.86165,     0.89003,     0.81768])\n",
            "names: {0: 'ketchup', 1: 'masala', 2: 'soap'}\n",
            "plot: True\n",
            "results_dict: {'metrics/precision(B)': 0.9692340952463546, 'metrics/recall(B)': 0.9498747995004907, 'metrics/mAP50(B)': 0.9877896129211918, 'metrics/mAP50-95(B)': 0.8564507854177742, 'fitness': 0.869584668168116}\n",
            "save_dir: PosixPath('runs/detect/train22')\n",
            "speed: {'preprocess': 0.8789791780359605, 'inference': 11.495522891773897, 'loss': 0.0026702880859375, 'postprocess': 6.963471805348116}\n",
            "task: 'detect'\n"
          ]
        }
      ]
    },
    {
      "cell_type": "markdown",
      "source": [
        "#Test the fine tuned model"
      ],
      "metadata": {
        "id": "5NMv3hinMG8N"
      }
    },
    {
      "cell_type": "code",
      "source": [
        "#Load the best model (best.pt)\n",
        "model = YOLO('/content/runs/detect/train2/weights/best.pt')\n",
        "\n",
        "# -------------------------------------------------------\n",
        "# 4. Run Inference (Prediction) on New Images\n",
        "# -------------------------------------------------------\n",
        "# You can pass a single image path or a folder containing images.\n",
        "# The model will output predictions (bounding boxes, confidence).\n",
        "\n",
        "# infer_images_path = '/content/drive/MyDrive/Data/grocery_yolov8/test/images/'\n",
        "\n",
        "infer = '/content/drive/MyDrive/Data/grocery_yolov8/grocery_yolov8/test/images/20241205_141507_jpg.rf.c9440386a929ffddfa5f5f486122eecb.jpg'\n",
        "\n",
        "inference_results = model.predict(source=infer,  # or a single image 'test/image.jpg'\n",
        "                                      conf=0.8,        # confidence threshold\n",
        "                                      iou=0.6,         # IoU threshold\n",
        "                                      save=True,        # save predictions as images\n",
        "                                      project='inference_results',  # where to save\n",
        "                                      name='detected')       # subfolder name\n",
        "print(\"Inference completed.\")"
      ],
      "metadata": {
        "id": "Dj3pn2MLLYm-",
        "colab": {
          "base_uri": "https://localhost:8080/"
        },
        "outputId": "6620a118-c33e-4b5f-ab11-6a28768260b0"
      },
      "execution_count": null,
      "outputs": [
        {
          "output_type": "stream",
          "name": "stdout",
          "text": [
            "\n",
            "image 1/1 /content/drive/MyDrive/Data/grocery_yolov8/grocery_yolov8/test/images/20241205_141507_jpg.rf.c9440386a929ffddfa5f5f486122eecb.jpg: 640x640 1 masala, 7.9ms\n",
            "Speed: 1.8ms preprocess, 7.9ms inference, 2.3ms postprocess per image at shape (1, 3, 640, 640)\n",
            "Results saved to \u001b[1minference_results/detected2\u001b[0m\n",
            "Inference completed.\n"
          ]
        }
      ]
    },
    {
      "cell_type": "markdown",
      "source": [
        "#Run inference (input set as infer.mp4), and output the video"
      ],
      "metadata": {
        "id": "_2BGeN2Cf-5C"
      }
    },
    {
      "cell_type": "code",
      "source": [
        "import cv2\n",
        "from ultralytics import YOLO\n",
        "import os\n",
        "\n",
        "def main():\n",
        "    # ----------------------------\n",
        "    # 1. Load the Finetuned Model\n",
        "    # ----------------------------\n",
        "    # Replace with the path to your best.pt file\n",
        "    model_path = '/content/runs/detect/train2/weights/best.pt'\n",
        "    model = YOLO(model_path)\n",
        "\n",
        "    # model.names = {\n",
        "    #    0: \"soap\",\n",
        "    #    1: \"ketchup\",\n",
        "    #    2: \"masala\"\n",
        "    # }\n",
        "\n",
        "    # Adjust costs here if needed\n",
        "    item_costs = {\n",
        "        \"soap\": 70,\n",
        "        \"ketchup\": 250,\n",
        "        \"masala\": 100\n",
        "    }\n",
        "\n",
        "    # ----------------------------\n",
        "    # 2. Define Counting Structures\n",
        "    # ----------------------------\n",
        "    # We want to count items only once for each unique tracked object.\n",
        "    # So for each class, we maintain a set of unique track IDs we've seen.\n",
        "    seen_ids_per_class = {name: set() for name in item_costs.keys()}\n",
        "\n",
        "    # This dictionary will store the final count of each item\n",
        "    item_counts = {name: 0 for name in item_costs.keys()}\n",
        "\n",
        "    # ------------------------------------\n",
        "    # 3. Open the Video and Prepare Writer\n",
        "    # ------------------------------------\n",
        "    input_video = 'soap_infer.mp4'\n",
        "    output_video = 'output_infer.mp4'  # Output filename\n",
        "\n",
        "    cap = cv2.VideoCapture(input_video)\n",
        "    if not cap.isOpened():\n",
        "        print(f\"Error: Could not open video {input_video}\")\n",
        "        return\n",
        "\n",
        "    # Get video properties\n",
        "    width  = int(cap.get(cv2.CAP_PROP_FRAME_WIDTH))\n",
        "    height = int(cap.get(cv2.CAP_PROP_FRAME_HEIGHT))\n",
        "    fps    = cap.get(cv2.CAP_PROP_FPS)\n",
        "\n",
        "    # Define VideoWriter to save annotated video\n",
        "    fourcc = cv2.VideoWriter_fourcc(*'mp4v')\n",
        "    out = cv2.VideoWriter(output_video, fourcc, fps, (width, height))\n",
        "\n",
        "    # -----------------------------\n",
        "    # 4. Process Video Frame by Frame\n",
        "    # -----------------------------\n",
        "    while True:\n",
        "        ret, frame = cap.read()\n",
        "        if not ret:\n",
        "            break\n",
        "\n",
        "        # Track objects in the current frame\n",
        "        # We use 'stream=True' to get generator results we can iterate over\n",
        "        # in real-time. Alternatively, you can call once with an image, but\n",
        "        # using track() is recommended for multi-object tracking.\n",
        "        results = model.track(frame, stream=True, imgsz=640, conf=0.5, iou=0.5, device='cpu')\n",
        "\n",
        "        # results is a generator; we iterate to get each result\n",
        "        # Usually for a single image, there's only one result in the generator\n",
        "        for result in results:\n",
        "            # result.boxes contains detections (xyxy, confidence, class, etc.)\n",
        "            # result.boxes.id is the unique track ID assigned if 'track=True'\n",
        "            annotated_frame = result.plot()  # annotated_frame is a NumPy array with bounding boxes, etc.\n",
        "\n",
        "            # Iterate over the detections in this result\n",
        "            if result.boxes is not None:\n",
        "                for box in result.boxes:\n",
        "                    cls_id = int(box.cls[0])  # class index (e.g., 0,1,2,...)\n",
        "                    track_id = int(box.id[0]) if box.id is not None else None\n",
        "\n",
        "                    # Convert cls_id to class name\n",
        "                    class_name = model.names[cls_id]\n",
        "\n",
        "                    # Only update the count for classes we have in item_costs\n",
        "                    if class_name in item_costs:\n",
        "                        # Add the track_id to the set if not already present\n",
        "                        if track_id is not None and track_id not in seen_ids_per_class[class_name]:\n",
        "                            seen_ids_per_class[class_name].add(track_id)\n",
        "                            item_counts[class_name] += 1\n",
        "\n",
        "            # --------------------------------------\n",
        "            # 5. Overlay Counts and Total Cost on Frame\n",
        "            # --------------------------------------\n",
        "            # Calculate the total cost so far\n",
        "            total_cost = 0\n",
        "            for name, count in item_counts.items():\n",
        "                total_cost += item_costs[name] * count\n",
        "\n",
        "            # Let's put the item counts in the top-left corner\n",
        "            y_offset = 30\n",
        "            for name, count in item_counts.items():\n",
        "                text = f\"{name}: {count}\"\n",
        "                cv2.putText(\n",
        "                    annotated_frame, text, (10, y_offset),\n",
        "                    cv2.FONT_HERSHEY_SIMPLEX, 0.8, (0, 0, 0), 2\n",
        "                )\n",
        "                y_offset += 30\n",
        "\n",
        "            # Put total cost below the item counts\n",
        "            cv2.putText(\n",
        "                annotated_frame,\n",
        "                f\"Total Cost: {total_cost}\",\n",
        "                (10, y_offset),\n",
        "                cv2.FONT_HERSHEY_SIMPLEX,\n",
        "                0.8,\n",
        "                (0, 255, 255),\n",
        "                2\n",
        "            )\n",
        "\n",
        "            # Write annotated frame to output video\n",
        "            out.write(annotated_frame)\n",
        "\n",
        "    # ---------------------\n",
        "    # 6. Release Resources\n",
        "    # ---------------------\n",
        "    cap.release()\n",
        "    out.release()\n",
        "    cv2.destroyAllWindows()\n",
        "\n",
        "    # Print final counts and total cost\n",
        "    print(\"Final Counts:\", item_counts)\n",
        "    total_cost = sum(item_costs[k] * v for k, v in item_counts.items())\n",
        "    print(\"Total Cost:\", total_cost)\n",
        "\n",
        "if __name__ == \"__main__\":\n",
        "    main()\n"
      ],
      "metadata": {
        "colab": {
          "base_uri": "https://localhost:8080/"
        },
        "id": "JnIxk653fP9I",
        "outputId": "6be27411-9c33-4d6e-da83-709956e0dab3"
      },
      "execution_count": null,
      "outputs": [
        {
          "output_type": "stream",
          "name": "stdout",
          "text": [
            "\n",
            "0: 640x384 (no detections), 91.6ms\n",
            "Speed: 2.5ms preprocess, 91.6ms inference, 0.5ms postprocess per image at shape (1, 3, 640, 384)\n",
            "\n",
            "0: 640x384 (no detections), 87.3ms\n",
            "Speed: 2.1ms preprocess, 87.3ms inference, 0.5ms postprocess per image at shape (1, 3, 640, 384)\n",
            "\n",
            "0: 640x384 (no detections), 99.2ms\n",
            "Speed: 2.1ms preprocess, 99.2ms inference, 0.5ms postprocess per image at shape (1, 3, 640, 384)\n",
            "\n",
            "0: 640x384 (no detections), 88.5ms\n",
            "Speed: 2.2ms preprocess, 88.5ms inference, 0.5ms postprocess per image at shape (1, 3, 640, 384)\n",
            "\n",
            "0: 640x384 (no detections), 87.2ms\n",
            "Speed: 2.1ms preprocess, 87.2ms inference, 0.5ms postprocess per image at shape (1, 3, 640, 384)\n",
            "\n",
            "0: 640x384 (no detections), 87.5ms\n",
            "Speed: 2.2ms preprocess, 87.5ms inference, 0.5ms postprocess per image at shape (1, 3, 640, 384)\n",
            "\n",
            "0: 640x384 (no detections), 85.3ms\n",
            "Speed: 2.0ms preprocess, 85.3ms inference, 0.5ms postprocess per image at shape (1, 3, 640, 384)\n",
            "\n",
            "0: 640x384 (no detections), 84.4ms\n",
            "Speed: 2.7ms preprocess, 84.4ms inference, 0.5ms postprocess per image at shape (1, 3, 640, 384)\n",
            "\n",
            "0: 640x384 (no detections), 88.1ms\n",
            "Speed: 2.1ms preprocess, 88.1ms inference, 0.5ms postprocess per image at shape (1, 3, 640, 384)\n",
            "\n",
            "0: 640x384 (no detections), 110.6ms\n",
            "Speed: 2.1ms preprocess, 110.6ms inference, 0.7ms postprocess per image at shape (1, 3, 640, 384)\n",
            "\n",
            "0: 640x384 (no detections), 90.9ms\n",
            "Speed: 2.5ms preprocess, 90.9ms inference, 0.5ms postprocess per image at shape (1, 3, 640, 384)\n",
            "\n",
            "0: 640x384 (no detections), 100.0ms\n",
            "Speed: 2.2ms preprocess, 100.0ms inference, 0.5ms postprocess per image at shape (1, 3, 640, 384)\n",
            "\n",
            "0: 640x384 (no detections), 82.3ms\n",
            "Speed: 2.3ms preprocess, 82.3ms inference, 0.5ms postprocess per image at shape (1, 3, 640, 384)\n",
            "\n",
            "0: 640x384 (no detections), 81.9ms\n",
            "Speed: 2.1ms preprocess, 81.9ms inference, 0.5ms postprocess per image at shape (1, 3, 640, 384)\n",
            "\n",
            "0: 640x384 (no detections), 84.2ms\n",
            "Speed: 2.1ms preprocess, 84.2ms inference, 0.5ms postprocess per image at shape (1, 3, 640, 384)\n",
            "\n",
            "0: 640x384 (no detections), 84.2ms\n",
            "Speed: 2.2ms preprocess, 84.2ms inference, 0.5ms postprocess per image at shape (1, 3, 640, 384)\n",
            "\n",
            "0: 640x384 (no detections), 84.3ms\n",
            "Speed: 2.7ms preprocess, 84.3ms inference, 0.5ms postprocess per image at shape (1, 3, 640, 384)\n",
            "\n",
            "0: 640x384 (no detections), 88.1ms\n",
            "Speed: 2.3ms preprocess, 88.1ms inference, 0.5ms postprocess per image at shape (1, 3, 640, 384)\n",
            "\n",
            "0: 640x384 (no detections), 95.3ms\n",
            "Speed: 2.6ms preprocess, 95.3ms inference, 0.5ms postprocess per image at shape (1, 3, 640, 384)\n",
            "\n",
            "0: 640x384 (no detections), 87.4ms\n",
            "Speed: 2.2ms preprocess, 87.4ms inference, 0.7ms postprocess per image at shape (1, 3, 640, 384)\n",
            "\n",
            "0: 640x384 (no detections), 98.4ms\n",
            "Speed: 2.2ms preprocess, 98.4ms inference, 0.5ms postprocess per image at shape (1, 3, 640, 384)\n",
            "\n",
            "0: 640x384 (no detections), 86.2ms\n",
            "Speed: 2.2ms preprocess, 86.2ms inference, 0.5ms postprocess per image at shape (1, 3, 640, 384)\n",
            "\n",
            "0: 640x384 (no detections), 85.2ms\n",
            "Speed: 2.2ms preprocess, 85.2ms inference, 0.5ms postprocess per image at shape (1, 3, 640, 384)\n",
            "\n",
            "0: 640x384 (no detections), 85.0ms\n",
            "Speed: 2.6ms preprocess, 85.0ms inference, 0.5ms postprocess per image at shape (1, 3, 640, 384)\n",
            "\n",
            "0: 640x384 (no detections), 87.8ms\n",
            "Speed: 2.2ms preprocess, 87.8ms inference, 0.5ms postprocess per image at shape (1, 3, 640, 384)\n",
            "\n",
            "0: 640x384 (no detections), 90.4ms\n",
            "Speed: 2.2ms preprocess, 90.4ms inference, 0.5ms postprocess per image at shape (1, 3, 640, 384)\n",
            "\n",
            "0: 640x384 (no detections), 109.0ms\n",
            "Speed: 2.5ms preprocess, 109.0ms inference, 0.8ms postprocess per image at shape (1, 3, 640, 384)\n",
            "\n",
            "0: 640x384 (no detections), 83.2ms\n",
            "Speed: 2.4ms preprocess, 83.2ms inference, 0.5ms postprocess per image at shape (1, 3, 640, 384)\n",
            "\n",
            "0: 640x384 (no detections), 86.8ms\n",
            "Speed: 2.3ms preprocess, 86.8ms inference, 0.5ms postprocess per image at shape (1, 3, 640, 384)\n",
            "\n",
            "0: 640x384 (no detections), 89.6ms\n",
            "Speed: 2.5ms preprocess, 89.6ms inference, 0.5ms postprocess per image at shape (1, 3, 640, 384)\n",
            "\n",
            "0: 640x384 (no detections), 85.6ms\n",
            "Speed: 2.3ms preprocess, 85.6ms inference, 0.4ms postprocess per image at shape (1, 3, 640, 384)\n",
            "\n",
            "0: 640x384 (no detections), 84.9ms\n",
            "Speed: 2.1ms preprocess, 84.9ms inference, 0.5ms postprocess per image at shape (1, 3, 640, 384)\n",
            "\n",
            "0: 640x384 (no detections), 96.6ms\n",
            "Speed: 2.2ms preprocess, 96.6ms inference, 0.7ms postprocess per image at shape (1, 3, 640, 384)\n",
            "\n",
            "0: 640x384 (no detections), 126.4ms\n",
            "Speed: 2.7ms preprocess, 126.4ms inference, 0.6ms postprocess per image at shape (1, 3, 640, 384)\n",
            "\n",
            "0: 640x384 (no detections), 167.4ms\n",
            "Speed: 2.7ms preprocess, 167.4ms inference, 0.7ms postprocess per image at shape (1, 3, 640, 384)\n",
            "\n",
            "0: 640x384 (no detections), 125.4ms\n",
            "Speed: 2.5ms preprocess, 125.4ms inference, 0.6ms postprocess per image at shape (1, 3, 640, 384)\n",
            "\n",
            "0: 640x384 (no detections), 136.6ms\n",
            "Speed: 2.5ms preprocess, 136.6ms inference, 0.6ms postprocess per image at shape (1, 3, 640, 384)\n",
            "\n",
            "0: 640x384 (no detections), 122.5ms\n",
            "Speed: 2.6ms preprocess, 122.5ms inference, 0.8ms postprocess per image at shape (1, 3, 640, 384)\n",
            "\n",
            "0: 640x384 (no detections), 117.4ms\n",
            "Speed: 2.6ms preprocess, 117.4ms inference, 0.7ms postprocess per image at shape (1, 3, 640, 384)\n",
            "\n",
            "0: 640x384 (no detections), 119.7ms\n",
            "Speed: 2.5ms preprocess, 119.7ms inference, 0.5ms postprocess per image at shape (1, 3, 640, 384)\n",
            "\n",
            "0: 640x384 (no detections), 138.8ms\n",
            "Speed: 4.0ms preprocess, 138.8ms inference, 0.6ms postprocess per image at shape (1, 3, 640, 384)\n",
            "\n",
            "0: 640x384 (no detections), 125.6ms\n",
            "Speed: 2.5ms preprocess, 125.6ms inference, 0.6ms postprocess per image at shape (1, 3, 640, 384)\n",
            "\n",
            "0: 640x384 (no detections), 139.5ms\n",
            "Speed: 2.5ms preprocess, 139.5ms inference, 0.7ms postprocess per image at shape (1, 3, 640, 384)\n",
            "\n",
            "0: 640x384 (no detections), 123.7ms\n",
            "Speed: 2.5ms preprocess, 123.7ms inference, 0.6ms postprocess per image at shape (1, 3, 640, 384)\n",
            "\n",
            "0: 640x384 (no detections), 146.7ms\n",
            "Speed: 2.8ms preprocess, 146.7ms inference, 0.5ms postprocess per image at shape (1, 3, 640, 384)\n",
            "\n",
            "0: 640x384 (no detections), 128.3ms\n",
            "Speed: 2.6ms preprocess, 128.3ms inference, 0.8ms postprocess per image at shape (1, 3, 640, 384)\n",
            "\n",
            "0: 640x384 (no detections), 122.1ms\n",
            "Speed: 2.5ms preprocess, 122.1ms inference, 0.6ms postprocess per image at shape (1, 3, 640, 384)\n",
            "\n",
            "0: 640x384 (no detections), 125.8ms\n",
            "Speed: 2.5ms preprocess, 125.8ms inference, 0.6ms postprocess per image at shape (1, 3, 640, 384)\n",
            "\n",
            "0: 640x384 (no detections), 137.2ms\n",
            "Speed: 2.5ms preprocess, 137.2ms inference, 0.5ms postprocess per image at shape (1, 3, 640, 384)\n",
            "\n",
            "0: 640x384 (no detections), 118.3ms\n",
            "Speed: 2.5ms preprocess, 118.3ms inference, 0.6ms postprocess per image at shape (1, 3, 640, 384)\n",
            "\n",
            "0: 640x384 (no detections), 118.7ms\n",
            "Speed: 2.5ms preprocess, 118.7ms inference, 0.5ms postprocess per image at shape (1, 3, 640, 384)\n",
            "\n",
            "0: 640x384 (no detections), 134.1ms\n",
            "Speed: 2.8ms preprocess, 134.1ms inference, 1.2ms postprocess per image at shape (1, 3, 640, 384)\n",
            "\n",
            "0: 640x384 (no detections), 134.0ms\n",
            "Speed: 2.5ms preprocess, 134.0ms inference, 1.8ms postprocess per image at shape (1, 3, 640, 384)\n",
            "\n",
            "0: 640x384 (no detections), 131.7ms\n",
            "Speed: 6.2ms preprocess, 131.7ms inference, 0.6ms postprocess per image at shape (1, 3, 640, 384)\n",
            "\n",
            "0: 640x384 (no detections), 137.6ms\n",
            "Speed: 2.5ms preprocess, 137.6ms inference, 0.8ms postprocess per image at shape (1, 3, 640, 384)\n",
            "\n",
            "0: 640x384 (no detections), 130.6ms\n",
            "Speed: 3.6ms preprocess, 130.6ms inference, 0.7ms postprocess per image at shape (1, 3, 640, 384)\n",
            "\n",
            "0: 640x384 (no detections), 126.4ms\n",
            "Speed: 2.6ms preprocess, 126.4ms inference, 0.7ms postprocess per image at shape (1, 3, 640, 384)\n",
            "\n",
            "0: 640x384 (no detections), 134.2ms\n",
            "Speed: 2.5ms preprocess, 134.2ms inference, 0.6ms postprocess per image at shape (1, 3, 640, 384)\n",
            "\n",
            "0: 640x384 (no detections), 127.3ms\n",
            "Speed: 5.1ms preprocess, 127.3ms inference, 0.6ms postprocess per image at shape (1, 3, 640, 384)\n",
            "\n",
            "0: 640x384 (no detections), 134.3ms\n",
            "Speed: 2.6ms preprocess, 134.3ms inference, 0.6ms postprocess per image at shape (1, 3, 640, 384)\n",
            "\n",
            "0: 640x384 (no detections), 138.8ms\n",
            "Speed: 2.4ms preprocess, 138.8ms inference, 0.6ms postprocess per image at shape (1, 3, 640, 384)\n",
            "\n",
            "0: 640x384 (no detections), 140.0ms\n",
            "Speed: 2.5ms preprocess, 140.0ms inference, 0.8ms postprocess per image at shape (1, 3, 640, 384)\n",
            "\n",
            "0: 640x384 (no detections), 130.1ms\n",
            "Speed: 2.4ms preprocess, 130.1ms inference, 0.7ms postprocess per image at shape (1, 3, 640, 384)\n",
            "\n",
            "0: 640x384 (no detections), 122.2ms\n",
            "Speed: 2.4ms preprocess, 122.2ms inference, 0.7ms postprocess per image at shape (1, 3, 640, 384)\n",
            "\n",
            "0: 640x384 (no detections), 123.6ms\n",
            "Speed: 3.2ms preprocess, 123.6ms inference, 0.6ms postprocess per image at shape (1, 3, 640, 384)\n",
            "\n",
            "0: 640x384 (no detections), 124.1ms\n",
            "Speed: 2.5ms preprocess, 124.1ms inference, 0.7ms postprocess per image at shape (1, 3, 640, 384)\n",
            "\n",
            "0: 640x384 (no detections), 121.3ms\n",
            "Speed: 2.4ms preprocess, 121.3ms inference, 0.7ms postprocess per image at shape (1, 3, 640, 384)\n",
            "\n",
            "0: 640x384 (no detections), 146.5ms\n",
            "Speed: 2.4ms preprocess, 146.5ms inference, 0.7ms postprocess per image at shape (1, 3, 640, 384)\n",
            "\n",
            "0: 640x384 (no detections), 123.3ms\n",
            "Speed: 2.4ms preprocess, 123.3ms inference, 0.7ms postprocess per image at shape (1, 3, 640, 384)\n",
            "\n",
            "0: 640x384 (no detections), 149.4ms\n",
            "Speed: 2.5ms preprocess, 149.4ms inference, 0.7ms postprocess per image at shape (1, 3, 640, 384)\n",
            "\n",
            "0: 640x384 (no detections), 142.9ms\n",
            "Speed: 2.4ms preprocess, 142.9ms inference, 0.7ms postprocess per image at shape (1, 3, 640, 384)\n",
            "\n",
            "0: 640x384 (no detections), 126.8ms\n",
            "Speed: 2.7ms preprocess, 126.8ms inference, 0.7ms postprocess per image at shape (1, 3, 640, 384)\n",
            "\n",
            "0: 640x384 (no detections), 117.6ms\n",
            "Speed: 2.5ms preprocess, 117.6ms inference, 0.6ms postprocess per image at shape (1, 3, 640, 384)\n",
            "\n",
            "0: 640x384 (no detections), 141.7ms\n",
            "Speed: 2.4ms preprocess, 141.7ms inference, 1.2ms postprocess per image at shape (1, 3, 640, 384)\n",
            "\n",
            "0: 640x384 (no detections), 132.2ms\n",
            "Speed: 2.7ms preprocess, 132.2ms inference, 0.7ms postprocess per image at shape (1, 3, 640, 384)\n",
            "\n",
            "0: 640x384 (no detections), 129.0ms\n",
            "Speed: 3.3ms preprocess, 129.0ms inference, 0.6ms postprocess per image at shape (1, 3, 640, 384)\n",
            "\n",
            "0: 640x384 (no detections), 129.6ms\n",
            "Speed: 2.4ms preprocess, 129.6ms inference, 0.7ms postprocess per image at shape (1, 3, 640, 384)\n",
            "\n",
            "0: 640x384 (no detections), 123.0ms\n",
            "Speed: 2.4ms preprocess, 123.0ms inference, 0.6ms postprocess per image at shape (1, 3, 640, 384)\n",
            "\n",
            "0: 640x384 (no detections), 120.4ms\n",
            "Speed: 2.5ms preprocess, 120.4ms inference, 0.7ms postprocess per image at shape (1, 3, 640, 384)\n",
            "\n",
            "0: 640x384 (no detections), 140.2ms\n",
            "Speed: 2.8ms preprocess, 140.2ms inference, 0.6ms postprocess per image at shape (1, 3, 640, 384)\n",
            "\n",
            "0: 640x384 (no detections), 136.9ms\n",
            "Speed: 2.4ms preprocess, 136.9ms inference, 0.6ms postprocess per image at shape (1, 3, 640, 384)\n",
            "\n",
            "0: 640x384 (no detections), 131.0ms\n",
            "Speed: 2.4ms preprocess, 131.0ms inference, 0.9ms postprocess per image at shape (1, 3, 640, 384)\n",
            "\n",
            "0: 640x384 (no detections), 129.6ms\n",
            "Speed: 2.8ms preprocess, 129.6ms inference, 0.6ms postprocess per image at shape (1, 3, 640, 384)\n",
            "\n",
            "0: 640x384 (no detections), 121.7ms\n",
            "Speed: 2.6ms preprocess, 121.7ms inference, 0.6ms postprocess per image at shape (1, 3, 640, 384)\n",
            "\n",
            "0: 640x384 (no detections), 122.2ms\n",
            "Speed: 2.9ms preprocess, 122.2ms inference, 0.7ms postprocess per image at shape (1, 3, 640, 384)\n",
            "\n",
            "0: 640x384 (no detections), 136.8ms\n",
            "Speed: 2.5ms preprocess, 136.8ms inference, 0.6ms postprocess per image at shape (1, 3, 640, 384)\n",
            "\n",
            "0: 640x384 (no detections), 131.9ms\n",
            "Speed: 2.6ms preprocess, 131.9ms inference, 0.7ms postprocess per image at shape (1, 3, 640, 384)\n",
            "\n",
            "0: 640x384 (no detections), 142.6ms\n",
            "Speed: 2.9ms preprocess, 142.6ms inference, 0.6ms postprocess per image at shape (1, 3, 640, 384)\n",
            "\n",
            "0: 640x384 (no detections), 128.0ms\n",
            "Speed: 4.2ms preprocess, 128.0ms inference, 0.6ms postprocess per image at shape (1, 3, 640, 384)\n",
            "\n",
            "0: 640x384 (no detections), 127.1ms\n",
            "Speed: 2.5ms preprocess, 127.1ms inference, 0.7ms postprocess per image at shape (1, 3, 640, 384)\n",
            "\n",
            "0: 640x384 (no detections), 131.8ms\n",
            "Speed: 2.5ms preprocess, 131.8ms inference, 0.7ms postprocess per image at shape (1, 3, 640, 384)\n",
            "\n",
            "0: 640x384 (no detections), 134.7ms\n",
            "Speed: 2.6ms preprocess, 134.7ms inference, 0.7ms postprocess per image at shape (1, 3, 640, 384)\n",
            "\n",
            "0: 640x384 (no detections), 99.8ms\n",
            "Speed: 2.5ms preprocess, 99.8ms inference, 0.6ms postprocess per image at shape (1, 3, 640, 384)\n",
            "\n",
            "0: 640x384 (no detections), 93.8ms\n",
            "Speed: 2.5ms preprocess, 93.8ms inference, 0.4ms postprocess per image at shape (1, 3, 640, 384)\n",
            "\n",
            "0: 640x384 (no detections), 89.6ms\n",
            "Speed: 2.0ms preprocess, 89.6ms inference, 0.5ms postprocess per image at shape (1, 3, 640, 384)\n",
            "\n",
            "0: 640x384 (no detections), 92.0ms\n",
            "Speed: 2.2ms preprocess, 92.0ms inference, 0.4ms postprocess per image at shape (1, 3, 640, 384)\n",
            "\n",
            "0: 640x384 (no detections), 83.7ms\n",
            "Speed: 2.1ms preprocess, 83.7ms inference, 0.5ms postprocess per image at shape (1, 3, 640, 384)\n",
            "\n",
            "0: 640x384 (no detections), 82.5ms\n",
            "Speed: 2.1ms preprocess, 82.5ms inference, 0.5ms postprocess per image at shape (1, 3, 640, 384)\n",
            "\n",
            "0: 640x384 (no detections), 88.9ms\n",
            "Speed: 2.0ms preprocess, 88.9ms inference, 0.5ms postprocess per image at shape (1, 3, 640, 384)\n",
            "\n",
            "0: 640x384 (no detections), 82.0ms\n",
            "Speed: 2.0ms preprocess, 82.0ms inference, 0.5ms postprocess per image at shape (1, 3, 640, 384)\n",
            "\n",
            "0: 640x384 (no detections), 87.0ms\n",
            "Speed: 2.1ms preprocess, 87.0ms inference, 0.5ms postprocess per image at shape (1, 3, 640, 384)\n",
            "\n",
            "0: 640x384 (no detections), 94.3ms\n",
            "Speed: 2.2ms preprocess, 94.3ms inference, 0.7ms postprocess per image at shape (1, 3, 640, 384)\n",
            "\n",
            "0: 640x384 (no detections), 95.6ms\n",
            "Speed: 2.5ms preprocess, 95.6ms inference, 0.5ms postprocess per image at shape (1, 3, 640, 384)\n",
            "\n",
            "0: 640x384 (no detections), 84.8ms\n",
            "Speed: 2.1ms preprocess, 84.8ms inference, 0.5ms postprocess per image at shape (1, 3, 640, 384)\n",
            "\n",
            "0: 640x384 (no detections), 87.3ms\n",
            "Speed: 2.5ms preprocess, 87.3ms inference, 0.5ms postprocess per image at shape (1, 3, 640, 384)\n",
            "\n",
            "0: 640x384 (no detections), 83.4ms\n",
            "Speed: 2.1ms preprocess, 83.4ms inference, 0.5ms postprocess per image at shape (1, 3, 640, 384)\n",
            "\n",
            "0: 640x384 (no detections), 81.7ms\n",
            "Speed: 2.2ms preprocess, 81.7ms inference, 0.5ms postprocess per image at shape (1, 3, 640, 384)\n",
            "\n",
            "0: 640x384 (no detections), 86.4ms\n",
            "Speed: 2.1ms preprocess, 86.4ms inference, 0.5ms postprocess per image at shape (1, 3, 640, 384)\n",
            "\n",
            "0: 640x384 (no detections), 87.8ms\n",
            "Speed: 2.1ms preprocess, 87.8ms inference, 0.5ms postprocess per image at shape (1, 3, 640, 384)\n",
            "\n",
            "0: 640x384 (no detections), 84.6ms\n",
            "Speed: 2.1ms preprocess, 84.6ms inference, 0.6ms postprocess per image at shape (1, 3, 640, 384)\n",
            "\n",
            "0: 640x384 (no detections), 98.4ms\n",
            "Speed: 2.1ms preprocess, 98.4ms inference, 0.5ms postprocess per image at shape (1, 3, 640, 384)\n",
            "\n",
            "0: 640x384 (no detections), 91.5ms\n",
            "Speed: 2.5ms preprocess, 91.5ms inference, 0.4ms postprocess per image at shape (1, 3, 640, 384)\n",
            "\n",
            "0: 640x384 (no detections), 84.4ms\n",
            "Speed: 2.1ms preprocess, 84.4ms inference, 0.5ms postprocess per image at shape (1, 3, 640, 384)\n",
            "\n",
            "0: 640x384 (no detections), 86.3ms\n",
            "Speed: 2.1ms preprocess, 86.3ms inference, 0.5ms postprocess per image at shape (1, 3, 640, 384)\n",
            "\n",
            "0: 640x384 (no detections), 93.9ms\n",
            "Speed: 2.6ms preprocess, 93.9ms inference, 0.5ms postprocess per image at shape (1, 3, 640, 384)\n",
            "\n",
            "0: 640x384 (no detections), 88.5ms\n",
            "Speed: 2.1ms preprocess, 88.5ms inference, 0.5ms postprocess per image at shape (1, 3, 640, 384)\n",
            "\n",
            "0: 640x384 (no detections), 90.0ms\n",
            "Speed: 2.3ms preprocess, 90.0ms inference, 0.5ms postprocess per image at shape (1, 3, 640, 384)\n",
            "\n",
            "0: 640x384 (no detections), 84.8ms\n",
            "Speed: 2.2ms preprocess, 84.8ms inference, 0.5ms postprocess per image at shape (1, 3, 640, 384)\n",
            "\n",
            "0: 640x384 (no detections), 91.5ms\n",
            "Speed: 2.3ms preprocess, 91.5ms inference, 0.7ms postprocess per image at shape (1, 3, 640, 384)\n",
            "\n",
            "0: 640x384 (no detections), 94.3ms\n",
            "Speed: 2.3ms preprocess, 94.3ms inference, 0.5ms postprocess per image at shape (1, 3, 640, 384)\n",
            "\n",
            "0: 640x384 (no detections), 87.1ms\n",
            "Speed: 2.5ms preprocess, 87.1ms inference, 0.5ms postprocess per image at shape (1, 3, 640, 384)\n",
            "\n",
            "0: 640x384 (no detections), 84.5ms\n",
            "Speed: 2.1ms preprocess, 84.5ms inference, 0.5ms postprocess per image at shape (1, 3, 640, 384)\n",
            "\n",
            "0: 640x384 1 ketchup, 80.4ms\n",
            "Speed: 2.0ms preprocess, 80.4ms inference, 0.8ms postprocess per image at shape (1, 3, 640, 384)\n",
            "\n",
            "0: 640x384 1 ketchup, 85.8ms\n",
            "Speed: 2.0ms preprocess, 85.8ms inference, 0.8ms postprocess per image at shape (1, 3, 640, 384)\n",
            "\n",
            "0: 640x384 1 ketchup, 85.2ms\n",
            "Speed: 2.0ms preprocess, 85.2ms inference, 0.8ms postprocess per image at shape (1, 3, 640, 384)\n",
            "\n",
            "0: 640x384 1 ketchup, 84.4ms\n",
            "Speed: 2.1ms preprocess, 84.4ms inference, 0.8ms postprocess per image at shape (1, 3, 640, 384)\n",
            "\n",
            "0: 640x384 1 ketchup, 85.8ms\n",
            "Speed: 2.4ms preprocess, 85.8ms inference, 0.8ms postprocess per image at shape (1, 3, 640, 384)\n",
            "\n",
            "0: 640x384 1 ketchup, 103.1ms\n",
            "Speed: 2.7ms preprocess, 103.1ms inference, 0.8ms postprocess per image at shape (1, 3, 640, 384)\n",
            "\n",
            "0: 640x384 1 ketchup, 94.2ms\n",
            "Speed: 2.1ms preprocess, 94.2ms inference, 0.8ms postprocess per image at shape (1, 3, 640, 384)\n",
            "\n",
            "0: 640x384 1 ketchup, 81.0ms\n",
            "Speed: 2.0ms preprocess, 81.0ms inference, 0.7ms postprocess per image at shape (1, 3, 640, 384)\n",
            "\n",
            "0: 640x384 1 ketchup, 81.5ms\n",
            "Speed: 3.2ms preprocess, 81.5ms inference, 0.8ms postprocess per image at shape (1, 3, 640, 384)\n",
            "\n",
            "0: 640x384 (no detections), 88.2ms\n",
            "Speed: 2.1ms preprocess, 88.2ms inference, 0.5ms postprocess per image at shape (1, 3, 640, 384)\n",
            "\n",
            "0: 640x384 1 ketchup, 83.9ms\n",
            "Speed: 2.2ms preprocess, 83.9ms inference, 0.8ms postprocess per image at shape (1, 3, 640, 384)\n",
            "\n",
            "0: 640x384 1 ketchup, 88.9ms\n",
            "Speed: 2.1ms preprocess, 88.9ms inference, 1.9ms postprocess per image at shape (1, 3, 640, 384)\n",
            "\n",
            "0: 640x384 1 ketchup, 84.4ms\n",
            "Speed: 2.1ms preprocess, 84.4ms inference, 0.9ms postprocess per image at shape (1, 3, 640, 384)\n",
            "\n",
            "0: 640x384 1 ketchup, 106.6ms\n",
            "Speed: 3.2ms preprocess, 106.6ms inference, 1.8ms postprocess per image at shape (1, 3, 640, 384)\n",
            "\n",
            "0: 640x384 1 masala, 96.3ms\n",
            "Speed: 2.7ms preprocess, 96.3ms inference, 1.0ms postprocess per image at shape (1, 3, 640, 384)\n",
            "\n",
            "0: 640x384 1 masala, 81.6ms\n",
            "Speed: 2.9ms preprocess, 81.6ms inference, 0.8ms postprocess per image at shape (1, 3, 640, 384)\n",
            "\n",
            "0: 640x384 1 masala, 82.5ms\n",
            "Speed: 2.8ms preprocess, 82.5ms inference, 0.8ms postprocess per image at shape (1, 3, 640, 384)\n",
            "\n",
            "0: 640x384 1 masala, 91.8ms\n",
            "Speed: 2.1ms preprocess, 91.8ms inference, 0.8ms postprocess per image at shape (1, 3, 640, 384)\n",
            "\n",
            "0: 640x384 (no detections), 80.0ms\n",
            "Speed: 2.1ms preprocess, 80.0ms inference, 0.5ms postprocess per image at shape (1, 3, 640, 384)\n",
            "\n",
            "0: 640x384 (no detections), 83.0ms\n",
            "Speed: 2.0ms preprocess, 83.0ms inference, 0.7ms postprocess per image at shape (1, 3, 640, 384)\n",
            "\n",
            "0: 640x384 1 soap, 85.7ms\n",
            "Speed: 2.1ms preprocess, 85.7ms inference, 0.7ms postprocess per image at shape (1, 3, 640, 384)\n",
            "\n",
            "0: 640x384 (no detections), 101.2ms\n",
            "Speed: 2.2ms preprocess, 101.2ms inference, 0.6ms postprocess per image at shape (1, 3, 640, 384)\n",
            "\n",
            "0: 640x384 1 soap, 88.0ms\n",
            "Speed: 2.5ms preprocess, 88.0ms inference, 0.8ms postprocess per image at shape (1, 3, 640, 384)\n",
            "\n",
            "0: 640x384 1 soap, 104.2ms\n",
            "Speed: 2.4ms preprocess, 104.2ms inference, 0.8ms postprocess per image at shape (1, 3, 640, 384)\n",
            "\n",
            "0: 640x384 1 soap, 83.2ms\n",
            "Speed: 2.1ms preprocess, 83.2ms inference, 0.9ms postprocess per image at shape (1, 3, 640, 384)\n",
            "\n",
            "0: 640x384 1 soap, 78.8ms\n",
            "Speed: 2.0ms preprocess, 78.8ms inference, 0.7ms postprocess per image at shape (1, 3, 640, 384)\n",
            "\n",
            "0: 640x384 1 masala, 86.0ms\n",
            "Speed: 2.1ms preprocess, 86.0ms inference, 0.8ms postprocess per image at shape (1, 3, 640, 384)\n",
            "\n",
            "0: 640x384 1 masala, 86.4ms\n",
            "Speed: 2.1ms preprocess, 86.4ms inference, 0.8ms postprocess per image at shape (1, 3, 640, 384)\n",
            "\n",
            "0: 640x384 1 masala, 88.8ms\n",
            "Speed: 2.1ms preprocess, 88.8ms inference, 1.0ms postprocess per image at shape (1, 3, 640, 384)\n",
            "\n",
            "0: 640x384 (no detections), 93.0ms\n",
            "Speed: 2.0ms preprocess, 93.0ms inference, 0.7ms postprocess per image at shape (1, 3, 640, 384)\n",
            "\n",
            "0: 640x384 1 masala, 83.9ms\n",
            "Speed: 2.4ms preprocess, 83.9ms inference, 0.8ms postprocess per image at shape (1, 3, 640, 384)\n",
            "\n",
            "0: 640x384 1 masala, 87.4ms\n",
            "Speed: 2.5ms preprocess, 87.4ms inference, 1.1ms postprocess per image at shape (1, 3, 640, 384)\n",
            "\n",
            "0: 640x384 (no detections), 89.0ms\n",
            "Speed: 2.5ms preprocess, 89.0ms inference, 0.5ms postprocess per image at shape (1, 3, 640, 384)\n",
            "\n",
            "0: 640x384 (no detections), 83.3ms\n",
            "Speed: 2.0ms preprocess, 83.3ms inference, 0.5ms postprocess per image at shape (1, 3, 640, 384)\n",
            "\n",
            "0: 640x384 (no detections), 77.6ms\n",
            "Speed: 2.0ms preprocess, 77.6ms inference, 0.4ms postprocess per image at shape (1, 3, 640, 384)\n",
            "\n",
            "0: 640x384 (no detections), 79.8ms\n",
            "Speed: 2.0ms preprocess, 79.8ms inference, 0.4ms postprocess per image at shape (1, 3, 640, 384)\n",
            "\n",
            "0: 640x384 (no detections), 78.5ms\n",
            "Speed: 2.1ms preprocess, 78.5ms inference, 0.5ms postprocess per image at shape (1, 3, 640, 384)\n",
            "\n",
            "0: 640x384 (no detections), 76.8ms\n",
            "Speed: 2.2ms preprocess, 76.8ms inference, 0.5ms postprocess per image at shape (1, 3, 640, 384)\n",
            "\n",
            "0: 640x384 (no detections), 100.4ms\n",
            "Speed: 2.2ms preprocess, 100.4ms inference, 0.6ms postprocess per image at shape (1, 3, 640, 384)\n",
            "\n",
            "0: 640x384 (no detections), 84.9ms\n",
            "Speed: 2.5ms preprocess, 84.9ms inference, 0.5ms postprocess per image at shape (1, 3, 640, 384)\n",
            "\n",
            "0: 640x384 (no detections), 77.3ms\n",
            "Speed: 2.0ms preprocess, 77.3ms inference, 0.5ms postprocess per image at shape (1, 3, 640, 384)\n",
            "\n",
            "0: 640x384 (no detections), 90.3ms\n",
            "Speed: 2.4ms preprocess, 90.3ms inference, 0.5ms postprocess per image at shape (1, 3, 640, 384)\n",
            "\n",
            "0: 640x384 (no detections), 80.2ms\n",
            "Speed: 2.0ms preprocess, 80.2ms inference, 0.5ms postprocess per image at shape (1, 3, 640, 384)\n",
            "\n",
            "0: 640x384 (no detections), 86.0ms\n",
            "Speed: 2.0ms preprocess, 86.0ms inference, 0.5ms postprocess per image at shape (1, 3, 640, 384)\n",
            "\n",
            "0: 640x384 (no detections), 84.9ms\n",
            "Speed: 2.0ms preprocess, 84.9ms inference, 0.5ms postprocess per image at shape (1, 3, 640, 384)\n",
            "\n",
            "0: 640x384 (no detections), 79.7ms\n",
            "Speed: 2.0ms preprocess, 79.7ms inference, 0.5ms postprocess per image at shape (1, 3, 640, 384)\n",
            "\n",
            "0: 640x384 (no detections), 79.2ms\n",
            "Speed: 2.0ms preprocess, 79.2ms inference, 0.4ms postprocess per image at shape (1, 3, 640, 384)\n",
            "\n",
            "0: 640x384 (no detections), 97.6ms\n",
            "Speed: 2.2ms preprocess, 97.6ms inference, 0.7ms postprocess per image at shape (1, 3, 640, 384)\n",
            "\n",
            "0: 640x384 (no detections), 82.9ms\n",
            "Speed: 2.1ms preprocess, 82.9ms inference, 0.5ms postprocess per image at shape (1, 3, 640, 384)\n",
            "\n",
            "0: 640x384 (no detections), 78.7ms\n",
            "Speed: 2.3ms preprocess, 78.7ms inference, 0.7ms postprocess per image at shape (1, 3, 640, 384)\n",
            "\n",
            "0: 640x384 (no detections), 95.5ms\n",
            "Speed: 2.0ms preprocess, 95.5ms inference, 0.5ms postprocess per image at shape (1, 3, 640, 384)\n",
            "\n",
            "0: 640x384 (no detections), 78.7ms\n",
            "Speed: 2.0ms preprocess, 78.7ms inference, 0.4ms postprocess per image at shape (1, 3, 640, 384)\n",
            "\n",
            "0: 640x384 (no detections), 77.5ms\n",
            "Speed: 2.1ms preprocess, 77.5ms inference, 0.5ms postprocess per image at shape (1, 3, 640, 384)\n",
            "\n",
            "0: 640x384 (no detections), 78.6ms\n",
            "Speed: 2.4ms preprocess, 78.6ms inference, 0.5ms postprocess per image at shape (1, 3, 640, 384)\n",
            "\n",
            "0: 640x384 (no detections), 80.4ms\n",
            "Speed: 2.1ms preprocess, 80.4ms inference, 0.7ms postprocess per image at shape (1, 3, 640, 384)\n",
            "\n",
            "0: 640x384 (no detections), 94.8ms\n",
            "Speed: 2.1ms preprocess, 94.8ms inference, 0.6ms postprocess per image at shape (1, 3, 640, 384)\n",
            "\n",
            "0: 640x384 (no detections), 130.9ms\n",
            "Speed: 2.8ms preprocess, 130.9ms inference, 0.6ms postprocess per image at shape (1, 3, 640, 384)\n",
            "\n",
            "0: 640x384 (no detections), 117.7ms\n",
            "Speed: 2.5ms preprocess, 117.7ms inference, 0.6ms postprocess per image at shape (1, 3, 640, 384)\n",
            "\n",
            "0: 640x384 (no detections), 124.8ms\n",
            "Speed: 2.6ms preprocess, 124.8ms inference, 0.6ms postprocess per image at shape (1, 3, 640, 384)\n",
            "\n",
            "0: 640x384 (no detections), 114.1ms\n",
            "Speed: 2.3ms preprocess, 114.1ms inference, 0.6ms postprocess per image at shape (1, 3, 640, 384)\n",
            "\n",
            "0: 640x384 (no detections), 118.6ms\n",
            "Speed: 3.2ms preprocess, 118.6ms inference, 0.6ms postprocess per image at shape (1, 3, 640, 384)\n",
            "\n",
            "0: 640x384 (no detections), 126.3ms\n",
            "Speed: 2.5ms preprocess, 126.3ms inference, 0.5ms postprocess per image at shape (1, 3, 640, 384)\n",
            "\n",
            "0: 640x384 (no detections), 137.5ms\n",
            "Speed: 2.3ms preprocess, 137.5ms inference, 0.5ms postprocess per image at shape (1, 3, 640, 384)\n",
            "\n",
            "0: 640x384 (no detections), 113.5ms\n",
            "Speed: 2.4ms preprocess, 113.5ms inference, 0.5ms postprocess per image at shape (1, 3, 640, 384)\n",
            "\n",
            "0: 640x384 (no detections), 119.8ms\n",
            "Speed: 3.6ms preprocess, 119.8ms inference, 0.7ms postprocess per image at shape (1, 3, 640, 384)\n",
            "\n",
            "0: 640x384 (no detections), 139.4ms\n",
            "Speed: 2.4ms preprocess, 139.4ms inference, 0.8ms postprocess per image at shape (1, 3, 640, 384)\n",
            "\n",
            "0: 640x384 (no detections), 130.0ms\n",
            "Speed: 2.8ms preprocess, 130.0ms inference, 0.6ms postprocess per image at shape (1, 3, 640, 384)\n",
            "\n",
            "0: 640x384 (no detections), 124.6ms\n",
            "Speed: 3.2ms preprocess, 124.6ms inference, 0.6ms postprocess per image at shape (1, 3, 640, 384)\n",
            "\n",
            "0: 640x384 (no detections), 135.9ms\n",
            "Speed: 2.5ms preprocess, 135.9ms inference, 0.7ms postprocess per image at shape (1, 3, 640, 384)\n",
            "\n",
            "0: 640x384 (no detections), 116.2ms\n",
            "Speed: 2.4ms preprocess, 116.2ms inference, 0.6ms postprocess per image at shape (1, 3, 640, 384)\n",
            "\n",
            "0: 640x384 (no detections), 119.8ms\n",
            "Speed: 2.4ms preprocess, 119.8ms inference, 0.6ms postprocess per image at shape (1, 3, 640, 384)\n",
            "\n",
            "0: 640x384 (no detections), 119.3ms\n",
            "Speed: 2.3ms preprocess, 119.3ms inference, 0.6ms postprocess per image at shape (1, 3, 640, 384)\n",
            "\n",
            "0: 640x384 (no detections), 138.9ms\n",
            "Speed: 4.4ms preprocess, 138.9ms inference, 0.6ms postprocess per image at shape (1, 3, 640, 384)\n",
            "\n",
            "0: 640x384 (no detections), 116.8ms\n",
            "Speed: 2.4ms preprocess, 116.8ms inference, 0.6ms postprocess per image at shape (1, 3, 640, 384)\n",
            "\n",
            "0: 640x384 (no detections), 128.0ms\n",
            "Speed: 2.4ms preprocess, 128.0ms inference, 0.7ms postprocess per image at shape (1, 3, 640, 384)\n",
            "\n",
            "0: 640x384 (no detections), 122.7ms\n",
            "Speed: 2.4ms preprocess, 122.7ms inference, 0.5ms postprocess per image at shape (1, 3, 640, 384)\n",
            "\n",
            "0: 640x384 (no detections), 120.6ms\n",
            "Speed: 2.4ms preprocess, 120.6ms inference, 0.7ms postprocess per image at shape (1, 3, 640, 384)\n",
            "\n",
            "0: 640x384 (no detections), 127.9ms\n",
            "Speed: 2.6ms preprocess, 127.9ms inference, 0.6ms postprocess per image at shape (1, 3, 640, 384)\n",
            "\n",
            "0: 640x384 (no detections), 119.2ms\n",
            "Speed: 2.3ms preprocess, 119.2ms inference, 0.6ms postprocess per image at shape (1, 3, 640, 384)\n",
            "\n",
            "0: 640x384 (no detections), 138.1ms\n",
            "Speed: 2.9ms preprocess, 138.1ms inference, 0.6ms postprocess per image at shape (1, 3, 640, 384)\n",
            "\n",
            "0: 640x384 (no detections), 116.1ms\n",
            "Speed: 2.5ms preprocess, 116.1ms inference, 0.6ms postprocess per image at shape (1, 3, 640, 384)\n",
            "\n",
            "0: 640x384 (no detections), 126.0ms\n",
            "Speed: 5.2ms preprocess, 126.0ms inference, 0.7ms postprocess per image at shape (1, 3, 640, 384)\n",
            "\n",
            "0: 640x384 (no detections), 121.0ms\n",
            "Speed: 2.4ms preprocess, 121.0ms inference, 0.7ms postprocess per image at shape (1, 3, 640, 384)\n",
            "\n",
            "0: 640x384 (no detections), 127.8ms\n",
            "Speed: 2.3ms preprocess, 127.8ms inference, 0.7ms postprocess per image at shape (1, 3, 640, 384)\n",
            "\n",
            "0: 640x384 (no detections), 120.9ms\n",
            "Speed: 2.3ms preprocess, 120.9ms inference, 0.8ms postprocess per image at shape (1, 3, 640, 384)\n",
            "\n",
            "0: 640x384 (no detections), 129.7ms\n",
            "Speed: 2.4ms preprocess, 129.7ms inference, 0.6ms postprocess per image at shape (1, 3, 640, 384)\n",
            "\n",
            "0: 640x384 (no detections), 119.3ms\n",
            "Speed: 2.4ms preprocess, 119.3ms inference, 0.7ms postprocess per image at shape (1, 3, 640, 384)\n",
            "\n",
            "0: 640x384 (no detections), 119.2ms\n",
            "Speed: 2.3ms preprocess, 119.2ms inference, 0.6ms postprocess per image at shape (1, 3, 640, 384)\n",
            "\n",
            "0: 640x384 (no detections), 117.0ms\n",
            "Speed: 2.5ms preprocess, 117.0ms inference, 0.7ms postprocess per image at shape (1, 3, 640, 384)\n",
            "\n",
            "0: 640x384 (no detections), 123.1ms\n",
            "Speed: 2.4ms preprocess, 123.1ms inference, 0.7ms postprocess per image at shape (1, 3, 640, 384)\n",
            "\n",
            "0: 640x384 (no detections), 119.8ms\n",
            "Speed: 2.4ms preprocess, 119.8ms inference, 0.7ms postprocess per image at shape (1, 3, 640, 384)\n",
            "\n",
            "0: 640x384 (no detections), 126.9ms\n",
            "Speed: 2.5ms preprocess, 126.9ms inference, 0.6ms postprocess per image at shape (1, 3, 640, 384)\n",
            "\n",
            "0: 640x384 (no detections), 122.1ms\n",
            "Speed: 2.3ms preprocess, 122.1ms inference, 0.7ms postprocess per image at shape (1, 3, 640, 384)\n",
            "\n",
            "0: 640x384 (no detections), 137.4ms\n",
            "Speed: 2.4ms preprocess, 137.4ms inference, 0.7ms postprocess per image at shape (1, 3, 640, 384)\n",
            "\n",
            "0: 640x384 (no detections), 126.0ms\n",
            "Speed: 3.5ms preprocess, 126.0ms inference, 0.7ms postprocess per image at shape (1, 3, 640, 384)\n",
            "\n",
            "0: 640x384 (no detections), 123.6ms\n",
            "Speed: 2.4ms preprocess, 123.6ms inference, 0.7ms postprocess per image at shape (1, 3, 640, 384)\n",
            "\n",
            "0: 640x384 (no detections), 123.3ms\n",
            "Speed: 2.4ms preprocess, 123.3ms inference, 0.7ms postprocess per image at shape (1, 3, 640, 384)\n",
            "\n",
            "0: 640x384 (no detections), 122.5ms\n",
            "Speed: 2.6ms preprocess, 122.5ms inference, 0.7ms postprocess per image at shape (1, 3, 640, 384)\n",
            "\n",
            "0: 640x384 (no detections), 143.1ms\n",
            "Speed: 2.6ms preprocess, 143.1ms inference, 0.8ms postprocess per image at shape (1, 3, 640, 384)\n",
            "\n",
            "0: 640x384 (no detections), 130.8ms\n",
            "Speed: 2.5ms preprocess, 130.8ms inference, 0.7ms postprocess per image at shape (1, 3, 640, 384)\n",
            "\n",
            "0: 640x384 (no detections), 123.1ms\n",
            "Speed: 2.6ms preprocess, 123.1ms inference, 0.7ms postprocess per image at shape (1, 3, 640, 384)\n",
            "\n",
            "0: 640x384 (no detections), 126.6ms\n",
            "Speed: 2.4ms preprocess, 126.6ms inference, 0.6ms postprocess per image at shape (1, 3, 640, 384)\n",
            "\n",
            "0: 640x384 (no detections), 121.9ms\n",
            "Speed: 2.4ms preprocess, 121.9ms inference, 0.6ms postprocess per image at shape (1, 3, 640, 384)\n",
            "\n",
            "0: 640x384 (no detections), 136.7ms\n",
            "Speed: 2.5ms preprocess, 136.7ms inference, 0.7ms postprocess per image at shape (1, 3, 640, 384)\n",
            "\n",
            "0: 640x384 (no detections), 133.2ms\n",
            "Speed: 6.0ms preprocess, 133.2ms inference, 0.7ms postprocess per image at shape (1, 3, 640, 384)\n",
            "\n",
            "0: 640x384 (no detections), 122.5ms\n",
            "Speed: 4.9ms preprocess, 122.5ms inference, 0.6ms postprocess per image at shape (1, 3, 640, 384)\n",
            "\n",
            "0: 640x384 (no detections), 125.0ms\n",
            "Speed: 2.4ms preprocess, 125.0ms inference, 0.6ms postprocess per image at shape (1, 3, 640, 384)\n",
            "\n",
            "0: 640x384 (no detections), 124.9ms\n",
            "Speed: 2.5ms preprocess, 124.9ms inference, 0.7ms postprocess per image at shape (1, 3, 640, 384)\n",
            "\n",
            "0: 640x384 (no detections), 122.0ms\n",
            "Speed: 2.4ms preprocess, 122.0ms inference, 0.6ms postprocess per image at shape (1, 3, 640, 384)\n",
            "\n",
            "0: 640x384 (no detections), 119.3ms\n",
            "Speed: 2.3ms preprocess, 119.3ms inference, 0.6ms postprocess per image at shape (1, 3, 640, 384)\n",
            "\n",
            "0: 640x384 (no detections), 131.3ms\n",
            "Speed: 2.4ms preprocess, 131.3ms inference, 0.7ms postprocess per image at shape (1, 3, 640, 384)\n",
            "\n",
            "0: 640x384 (no detections), 124.5ms\n",
            "Speed: 4.8ms preprocess, 124.5ms inference, 0.7ms postprocess per image at shape (1, 3, 640, 384)\n",
            "\n",
            "0: 640x384 (no detections), 127.7ms\n",
            "Speed: 2.3ms preprocess, 127.7ms inference, 0.7ms postprocess per image at shape (1, 3, 640, 384)\n",
            "\n",
            "0: 640x384 (no detections), 140.6ms\n",
            "Speed: 2.4ms preprocess, 140.6ms inference, 0.6ms postprocess per image at shape (1, 3, 640, 384)\n",
            "\n",
            "0: 640x384 (no detections), 120.8ms\n",
            "Speed: 2.3ms preprocess, 120.8ms inference, 0.7ms postprocess per image at shape (1, 3, 640, 384)\n",
            "\n",
            "0: 640x384 1 soap, 124.9ms\n",
            "Speed: 2.3ms preprocess, 124.9ms inference, 1.0ms postprocess per image at shape (1, 3, 640, 384)\n",
            "\n",
            "0: 640x384 1 soap, 125.5ms\n",
            "Speed: 2.3ms preprocess, 125.5ms inference, 1.1ms postprocess per image at shape (1, 3, 640, 384)\n",
            "\n",
            "0: 640x384 (no detections), 127.7ms\n",
            "Speed: 2.5ms preprocess, 127.7ms inference, 0.7ms postprocess per image at shape (1, 3, 640, 384)\n",
            "\n",
            "0: 640x384 1 soap, 125.8ms\n",
            "Speed: 2.5ms preprocess, 125.8ms inference, 1.0ms postprocess per image at shape (1, 3, 640, 384)\n",
            "\n",
            "0: 640x384 1 soap, 125.5ms\n",
            "Speed: 2.4ms preprocess, 125.5ms inference, 1.0ms postprocess per image at shape (1, 3, 640, 384)\n",
            "\n",
            "0: 640x384 (no detections), 126.6ms\n",
            "Speed: 2.4ms preprocess, 126.6ms inference, 0.6ms postprocess per image at shape (1, 3, 640, 384)\n",
            "\n",
            "0: 640x384 (no detections), 122.0ms\n",
            "Speed: 2.3ms preprocess, 122.0ms inference, 0.8ms postprocess per image at shape (1, 3, 640, 384)\n",
            "\n",
            "0: 640x384 (no detections), 115.4ms\n",
            "Speed: 2.4ms preprocess, 115.4ms inference, 1.4ms postprocess per image at shape (1, 3, 640, 384)\n",
            "\n",
            "0: 640x384 (no detections), 138.3ms\n",
            "Speed: 2.4ms preprocess, 138.3ms inference, 0.7ms postprocess per image at shape (1, 3, 640, 384)\n",
            "\n",
            "0: 640x384 1 masala, 117.9ms\n",
            "Speed: 2.6ms preprocess, 117.9ms inference, 1.1ms postprocess per image at shape (1, 3, 640, 384)\n",
            "\n",
            "0: 640x384 1 masala, 122.4ms\n",
            "Speed: 2.4ms preprocess, 122.4ms inference, 1.0ms postprocess per image at shape (1, 3, 640, 384)\n",
            "\n",
            "0: 640x384 (no detections), 122.3ms\n",
            "Speed: 2.4ms preprocess, 122.3ms inference, 0.5ms postprocess per image at shape (1, 3, 640, 384)\n",
            "\n",
            "0: 640x384 1 soap, 82.8ms\n",
            "Speed: 2.1ms preprocess, 82.8ms inference, 0.8ms postprocess per image at shape (1, 3, 640, 384)\n",
            "\n",
            "0: 640x384 1 soap, 92.1ms\n",
            "Speed: 2.1ms preprocess, 92.1ms inference, 1.0ms postprocess per image at shape (1, 3, 640, 384)\n",
            "\n",
            "0: 640x384 1 soap, 93.5ms\n",
            "Speed: 2.6ms preprocess, 93.5ms inference, 0.8ms postprocess per image at shape (1, 3, 640, 384)\n",
            "\n",
            "0: 640x384 (no detections), 95.3ms\n",
            "Speed: 2.3ms preprocess, 95.3ms inference, 0.5ms postprocess per image at shape (1, 3, 640, 384)\n",
            "\n",
            "0: 640x384 1 soap, 82.2ms\n",
            "Speed: 2.1ms preprocess, 82.2ms inference, 0.8ms postprocess per image at shape (1, 3, 640, 384)\n",
            "\n",
            "0: 640x384 1 soap, 84.0ms\n",
            "Speed: 2.6ms preprocess, 84.0ms inference, 0.8ms postprocess per image at shape (1, 3, 640, 384)\n",
            "\n",
            "0: 640x384 (no detections), 80.6ms\n",
            "Speed: 2.0ms preprocess, 80.6ms inference, 0.5ms postprocess per image at shape (1, 3, 640, 384)\n",
            "\n",
            "0: 640x384 1 soap, 80.9ms\n",
            "Speed: 2.4ms preprocess, 80.9ms inference, 0.8ms postprocess per image at shape (1, 3, 640, 384)\n",
            "\n",
            "0: 640x384 1 soap, 80.5ms\n",
            "Speed: 2.0ms preprocess, 80.5ms inference, 0.8ms postprocess per image at shape (1, 3, 640, 384)\n",
            "\n",
            "0: 640x384 1 masala, 75.3ms\n",
            "Speed: 2.0ms preprocess, 75.3ms inference, 0.7ms postprocess per image at shape (1, 3, 640, 384)\n",
            "\n",
            "0: 640x384 1 masala, 94.7ms\n",
            "Speed: 2.1ms preprocess, 94.7ms inference, 0.8ms postprocess per image at shape (1, 3, 640, 384)\n",
            "\n",
            "0: 640x384 1 masala, 85.6ms\n",
            "Speed: 2.0ms preprocess, 85.6ms inference, 0.8ms postprocess per image at shape (1, 3, 640, 384)\n",
            "\n",
            "0: 640x384 1 masala, 102.3ms\n",
            "Speed: 2.1ms preprocess, 102.3ms inference, 0.8ms postprocess per image at shape (1, 3, 640, 384)\n",
            "\n",
            "0: 640x384 1 masala, 83.9ms\n",
            "Speed: 2.0ms preprocess, 83.9ms inference, 0.8ms postprocess per image at shape (1, 3, 640, 384)\n",
            "\n",
            "0: 640x384 1 masala, 79.6ms\n",
            "Speed: 2.0ms preprocess, 79.6ms inference, 0.8ms postprocess per image at shape (1, 3, 640, 384)\n",
            "\n",
            "0: 640x384 1 masala, 80.8ms\n",
            "Speed: 2.0ms preprocess, 80.8ms inference, 0.9ms postprocess per image at shape (1, 3, 640, 384)\n",
            "\n",
            "0: 640x384 1 masala, 85.6ms\n",
            "Speed: 2.1ms preprocess, 85.6ms inference, 0.8ms postprocess per image at shape (1, 3, 640, 384)\n",
            "\n",
            "0: 640x384 1 masala, 82.5ms\n",
            "Speed: 2.1ms preprocess, 82.5ms inference, 0.8ms postprocess per image at shape (1, 3, 640, 384)\n",
            "\n",
            "0: 640x384 1 masala, 95.1ms\n",
            "Speed: 2.0ms preprocess, 95.1ms inference, 1.3ms postprocess per image at shape (1, 3, 640, 384)\n",
            "Final Counts: {'soap': 1, 'ketchup': 1, 'masala': 1}\n",
            "Total Cost: 420\n"
          ]
        }
      ]
    }
  ]
}